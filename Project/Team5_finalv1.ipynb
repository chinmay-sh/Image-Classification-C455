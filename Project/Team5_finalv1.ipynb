{
  "nbformat": 4,
  "nbformat_minor": 0,
  "metadata": {
    "colab": {
      "name": "Team5_milestone1.ipynb",
      "provenance": [],
      "collapsed_sections": [],
      "include_colab_link": true
    },
    "kernelspec": {
      "name": "python37664bitbasecondac4937656be8544b7a6d6182776239ee9",
      "display_name": "Python 3.7.6 64-bit ('base': conda)"
    },
    "accelerator": "GPU"
  },
  "cells": [
    {
      "cell_type": "markdown",
      "metadata": {
        "id": "view-in-github",
        "colab_type": "text"
      },
      "source": [
        "<a href=\"https://colab.research.google.com/github/the-redlord/comp455/blob/master/Project/Team5_finalv1.ipynb\" target=\"_parent\"><img src=\"https://colab.research.google.com/assets/colab-badge.svg\" alt=\"Open In Colab\"/></a>"
      ]
    },
    {
      "cell_type": "code",
      "metadata": {
        "id": "dPnJbqMCZKNE",
        "colab": {
          "base_uri": "https://localhost:8080/"
        },
        "outputId": "787a6e5f-d264-4396-cd5a-79c2249ecdc2"
      },
      "source": [
        "#Step 1: import\n",
        "\n",
        "import tensorflow as tf\n",
        "from tensorflow import keras\n",
        "\n",
        "import os\n",
        "\n",
        "from keras import regularizers\n",
        "from keras.models import Sequential\n",
        "from keras.layers import Dense, Dropout, Flatten\n",
        "from keras.optimizers import RMSprop\n",
        "from keras.constraints import maxnorm\n",
        "from keras.layers import  Conv2D, MaxPooling2D, BatchNormalization, Input\n",
        "\n",
        "\n",
        "import numpy as np\n",
        "import matplotlib.pyplot as plt\n",
        "%matplotlib inline\n",
        "\n",
        "if not os.path.isdir('models'):\n",
        "    os.mkdir('models')\n",
        "    \n",
        "print('TensorFlow version:', tf.__version__)\n",
        "print('Is using GPU?', tf.test.is_gpu_available())\n",
        "tf.config.list_physical_devices('GPU')"
      ],
      "execution_count": 1,
      "outputs": [
        {
          "output_type": "stream",
          "text": [
            "TensorFlow version: 2.3.0\n",
            "WARNING:tensorflow:From <ipython-input-1-e0eb2f5b1abf>:24: is_gpu_available (from tensorflow.python.framework.test_util) is deprecated and will be removed in a future version.\n",
            "Instructions for updating:\n",
            "Use `tf.config.list_physical_devices('GPU')` instead.\n",
            "Is using GPU? True\n"
          ],
          "name": "stdout"
        },
        {
          "output_type": "execute_result",
          "data": {
            "text/plain": [
              "[PhysicalDevice(name='/physical_device:GPU:0', device_type='GPU')]"
            ]
          },
          "metadata": {
            "tags": []
          },
          "execution_count": 1
        }
      ]
    },
    {
      "cell_type": "code",
      "metadata": {
        "id": "sqLed2WntSDN"
      },
      "source": [
        "#Load the dataset\n",
        "(X_Train, Y_Train),(X_Test, Y_Test) = tf.keras.datasets.cifar10.load_data()"
      ],
      "execution_count": 2,
      "outputs": []
    },
    {
      "cell_type": "code",
      "metadata": {
        "id": "AwZUGqJUtSHP",
        "colab": {
          "base_uri": "https://localhost:8080/",
          "height": 209
        },
        "outputId": "5823c1e4-8571-434a-8ac1-fdf47798ce17"
      },
      "source": [
        "import matplotlib.pyplot as plt\n",
        "plt.figure(figsize=(20,10))\n",
        "plt.subplot(330+1+1)\n",
        "plt.imshow(X_Train[1])\n",
        "plt.show()\n",
        "#print(Y_Train)"
      ],
      "execution_count": 3,
      "outputs": [
        {
          "output_type": "display_data",
          "data": {
            "image/png": "[encoded data removed]",
            "text/plain": [
              "<Figure size 1440x720 with 1 Axes>"
            ]
          },
          "metadata": {
            "tags": [],
            "needs_background": "light"
          }
        }
      ]
    },
    {
      "cell_type": "code",
      "metadata": {
        "id": "MbZY4KqHtSLI"
      },
      "source": [
        "#Step 2: Data pre-processiing \n",
        "\n",
        "\n",
        "#Normalize the dataset\n",
        "X_Train = X_Train.astype('float32')\n",
        "X_Test = X_Test.astype('float32')\n",
        "\n",
        "# X_Train = X_Train/255.0\n",
        "# X_Test= X_Test/255.0\n",
        "\n",
        "#z-score\n",
        "mean = np.mean(X_Train,axis=(0,1,2,3))\n",
        "std = np.std(X_Train,axis=(0,1,2,3))\n",
        "X_Train = (X_Train-mean)/(std+1e-7)\n",
        "X_Test = (X_Test-mean)/(std+1e-7)"
      ],
      "execution_count": 4,
      "outputs": []
    },
    {
      "cell_type": "code",
      "metadata": {
        "id": "KwM7fpxpQF_b",
        "colab": {
          "base_uri": "https://localhost:8080/"
        },
        "outputId": "44241825-cb6a-4234-b8fe-298ecba4c421"
      },
      "source": [
        "X_Train.shape"
      ],
      "execution_count": 5,
      "outputs": [
        {
          "output_type": "execute_result",
          "data": {
            "text/plain": [
              "(50000, 32, 32, 3)"
            ]
          },
          "metadata": {
            "tags": []
          },
          "execution_count": 5
        }
      ]
    },
    {
      "cell_type": "code",
      "metadata": {
        "id": "ogw5rcVBzXC7"
      },
      "source": [
        "#Now one hot encoding on Y_Test\n",
        "\n",
        "#convert vectors into Binary class matrices\n",
        "\n",
        "Y_Train=keras.utils.to_categorical(Y_Train)\n",
        "Y_Test=keras.utils.to_categorical(Y_Test)"
      ],
      "execution_count": 6,
      "outputs": []
    },
    {
      "cell_type": "code",
      "metadata": {
        "id": "2TPQkA6GNnZl"
      },
      "source": [
        "cifar_classes = ['aeroplane', 'automobile', 'bird', 'cat', 'deer', 'dog', 'frog', 'horse', 'ship', 'truck']"
      ],
      "execution_count": 7,
      "outputs": []
    },
    {
      "cell_type": "code",
      "metadata": {
        "id": "lu6ucBoANhnR",
        "colab": {
          "base_uri": "https://localhost:8080/",
          "height": 477
        },
        "outputId": "726de2dc-988e-4b1d-dd15-995b11c2904c"
      },
      "source": [
        "def show_random_examples(x,y,p):\n",
        "  indices = np.random.choice(range(x.shape[0]),10,replace=False)\n",
        "  x = x[indices]\n",
        "  y = y[indices]\n",
        "  p = p[indices]\n",
        "\n",
        "  plt.figure(figsize=(10,5))\n",
        "  for i in range(10):\n",
        "    plt.subplot(2,5,1+i)\n",
        "    plt.imshow(x[i])\n",
        "    plt.xticks([])\n",
        "    plt.yticks([])\n",
        "\n",
        "    # show correct prediction in green and wrong in red\n",
        "    col ='green' if np.argmax(y[i]) == np.argmax(p[i]) else 'red'\n",
        "    plt.xlabel(cifar_classes[np.argmax(p[i])],color=col)\n",
        "  plt.show()\n",
        "\n",
        "show_random_examples(X_Train,Y_Train,Y_Train)"
      ],
      "execution_count": 8,
      "outputs": [
        {
          "output_type": "stream",
          "text": [
            "Clipping input data to the valid range for imshow with RGB data ([0..1] for floats or [0..255] for integers).\n",
            "Clipping input data to the valid range for imshow with RGB data ([0..1] for floats or [0..255] for integers).\n",
            "Clipping input data to the valid range for imshow with RGB data ([0..1] for floats or [0..255] for integers).\n",
            "Clipping input data to the valid range for imshow with RGB data ([0..1] for floats or [0..255] for integers).\n",
            "Clipping input data to the valid range for imshow with RGB data ([0..1] for floats or [0..255] for integers).\n",
            "Clipping input data to the valid range for imshow with RGB data ([0..1] for floats or [0..255] for integers).\n",
            "Clipping input data to the valid range for imshow with RGB data ([0..1] for floats or [0..255] for integers).\n",
            "Clipping input data to the valid range for imshow with RGB data ([0..1] for floats or [0..255] for integers).\n",
            "Clipping input data to the valid range for imshow with RGB data ([0..1] for floats or [0..255] for integers).\n",
            "Clipping input data to the valid range for imshow with RGB data ([0..1] for floats or [0..255] for integers).\n"
          ],
          "name": "stderr"
        },
        {
          "output_type": "display_data",
          "data": {
            "image/png": "[encoded data removed]",
            "text/plain": [
              "<Figure size 720x360 with 10 Axes>"
            ]
          },
          "metadata": {
            "tags": []
          }
        }
      ]
    },
    {
      "cell_type": "code",
      "metadata": {
        "id": "u0YS8iFXzXKr"
      },
      "source": [
        "#CHeck the shape of Y_Train\n",
        "num_classes = Y_Train.shape[1]"
      ],
      "execution_count": 9,
      "outputs": []
    },
    {
      "cell_type": "code",
      "metadata": {
        "id": "axfP8D-8zXT8"
      },
      "source": [
        "#Step 3: Model Creation\n",
        "\n",
        "weight_decay = 1e-4\n",
        "\n",
        "model = Sequential()\n",
        "\n",
        "model.add(Input(shape=(32,32,3)))\n",
        "\n",
        "model.add(Conv2D(32,3,activation='relu',padding='same',kernel_regularizer=regularizers.l2(weight_decay)))\n",
        "model.add(BatchNormalization())\n",
        "model.add(Conv2D(32,3,activation='relu',padding='same',kernel_regularizer=regularizers.l2(weight_decay)))\n",
        "model.add(MaxPooling2D(pool_size=2))\n",
        "model.add(Dropout(0.2))\n",
        "\n",
        "model.add(Conv2D(64,3,activation='relu',padding='same',kernel_regularizer=regularizers.l2(weight_decay)))\n",
        "model.add(BatchNormalization())\n",
        "model.add(Conv2D(64,3,activation='relu',padding='same',kernel_regularizer=regularizers.l2(weight_decay)))\n",
        "model.add(MaxPooling2D(pool_size=2))\n",
        "model.add(Dropout(0.3))\n",
        "\n",
        "model.add(Conv2D(128,3,activation='relu',padding='same',kernel_regularizer=regularizers.l2(weight_decay)))\n",
        "model.add(BatchNormalization())\n",
        "model.add(Conv2D(128,3,activation='relu',padding='same',kernel_regularizer=regularizers.l2(weight_decay)))\n",
        "model.add(MaxPooling2D(pool_size=2))\n",
        "model.add(Dropout(0.4))\n",
        "\n",
        "\n",
        "model.add(Flatten())\n",
        "\n",
        "model.add(Dense(128, activation='relu'))\n",
        "model.add(Dropout(0.2))\n",
        "\n",
        "model.add(Dense(10, activation= 'softmax'))\n",
        "\n",
        "#compile the model\n",
        "\n",
        "opt_rms = RMSprop(lr=0.001,decay=1e-6)\n",
        "\n",
        "model.compile(loss='categorical_crossentropy', optimizer=opt_rms, metrics = ['accuracy'])"
      ],
      "execution_count": 10,
      "outputs": []
    },
    {
      "cell_type": "code",
      "metadata": {
        "id": "vEk2srvJzXOP",
        "colab": {
          "base_uri": "https://localhost:8080/"
        },
        "outputId": "2c582a42-7290-49dd-a43d-0120393e2d9e"
      },
      "source": [
        "model.summary()"
      ],
      "execution_count": 11,
      "outputs": [
        {
          "output_type": "stream",
          "text": [
            "Model: \"sequential\"\n",
            "_________________________________________________________________\n",
            "Layer (type)                 Output Shape              Param #   \n",
            "=================================================================\n",
            "conv2d (Conv2D)              (None, 32, 32, 32)        896       \n",
            "_________________________________________________________________\n",
            "batch_normalization (BatchNo (None, 32, 32, 32)        128       \n",
            "_________________________________________________________________\n",
            "conv2d_1 (Conv2D)            (None, 32, 32, 32)        9248      \n",
            "_________________________________________________________________\n",
            "max_pooling2d (MaxPooling2D) (None, 16, 16, 32)        0         \n",
            "_________________________________________________________________\n",
            "dropout (Dropout)            (None, 16, 16, 32)        0         \n",
            "_________________________________________________________________\n",
            "conv2d_2 (Conv2D)            (None, 16, 16, 64)        18496     \n",
            "_________________________________________________________________\n",
            "batch_normalization_1 (Batch (None, 16, 16, 64)        256       \n",
            "_________________________________________________________________\n",
            "conv2d_3 (Conv2D)            (None, 16, 16, 64)        36928     \n",
            "_________________________________________________________________\n",
            "max_pooling2d_1 (MaxPooling2 (None, 8, 8, 64)          0         \n",
            "_________________________________________________________________\n",
            "dropout_1 (Dropout)          (None, 8, 8, 64)          0         \n",
            "_________________________________________________________________\n",
            "conv2d_4 (Conv2D)            (None, 8, 8, 128)         73856     \n",
            "_________________________________________________________________\n",
            "batch_normalization_2 (Batch (None, 8, 8, 128)         512       \n",
            "_________________________________________________________________\n",
            "conv2d_5 (Conv2D)            (None, 8, 8, 128)         147584    \n",
            "_________________________________________________________________\n",
            "max_pooling2d_2 (MaxPooling2 (None, 4, 4, 128)         0         \n",
            "_________________________________________________________________\n",
            "dropout_2 (Dropout)          (None, 4, 4, 128)         0         \n",
            "_________________________________________________________________\n",
            "flatten (Flatten)            (None, 2048)              0         \n",
            "_________________________________________________________________\n",
            "dense (Dense)                (None, 128)               262272    \n",
            "_________________________________________________________________\n",
            "dropout_3 (Dropout)          (None, 128)               0         \n",
            "_________________________________________________________________\n",
            "dense_1 (Dense)              (None, 10)                1290      \n",
            "=================================================================\n",
            "Total params: 551,466\n",
            "Trainable params: 551,018\n",
            "Non-trainable params: 448\n",
            "_________________________________________________________________\n"
          ],
          "name": "stdout"
        }
      ]
    },
    {
      "cell_type": "code",
      "metadata": {
        "id": "Y-eSnbTwzW-N",
        "colab": {
          "base_uri": "https://localhost:8080/"
        },
        "outputId": "9f0f9589-ad7a-4b6b-f2b1-1be39f392065"
      },
      "source": [
        "history = model.fit(X_Train, Y_Train, validation_data=(X_Test,Y_Test), epochs=100, batch_size=256,callbacks=[\n",
        "                tf.keras.callbacks.ModelCheckpoint('models/model_{val_accuracy:.3f}.h5',\n",
        "                                                   save_best_only=True,save_weights_only=False,\n",
        "                                                   monitor='val_accuracy')\n",
        "              ])"
      ],
      "execution_count": 12,
      "outputs": [
        {
          "output_type": "stream",
          "text": [
            "Epoch 1/100\n",
            "196/196 [==============================] - 4s 19ms/step - loss: 1.8975 - accuracy: 0.3529 - val_loss: 2.2741 - val_accuracy: 0.2177\n",
            "Epoch 2/100\n",
            "196/196 [==============================] - 3s 17ms/step - loss: 1.3358 - accuracy: 0.5347 - val_loss: 1.5769 - val_accuracy: 0.4696\n",
            "Epoch 3/100\n",
            "196/196 [==============================] - 3s 17ms/step - loss: 1.1067 - accuracy: 0.6228 - val_loss: 1.0819 - val_accuracy: 0.6323\n",
            "Epoch 4/100\n",
            "196/196 [==============================] - 3s 17ms/step - loss: 0.9723 - accuracy: 0.6746 - val_loss: 0.9309 - val_accuracy: 0.6956\n",
            "Epoch 5/100\n",
            "196/196 [==============================] - 3s 17ms/step - loss: 0.8769 - accuracy: 0.7110 - val_loss: 1.1279 - val_accuracy: 0.6643\n",
            "Epoch 6/100\n",
            "196/196 [==============================] - 3s 17ms/step - loss: 0.8086 - accuracy: 0.7380 - val_loss: 1.0890 - val_accuracy: 0.6701\n",
            "Epoch 7/100\n",
            "196/196 [==============================] - 3s 17ms/step - loss: 0.7593 - accuracy: 0.7541 - val_loss: 0.7789 - val_accuracy: 0.7602\n",
            "Epoch 8/100\n",
            "196/196 [==============================] - 3s 17ms/step - loss: 0.7154 - accuracy: 0.7726 - val_loss: 0.9192 - val_accuracy: 0.7528\n",
            "Epoch 9/100\n",
            "196/196 [==============================] - 3s 17ms/step - loss: 0.6831 - accuracy: 0.7850 - val_loss: 0.7621 - val_accuracy: 0.7733\n",
            "Epoch 10/100\n",
            "196/196 [==============================] - 3s 17ms/step - loss: 0.6529 - accuracy: 0.7954 - val_loss: 0.7621 - val_accuracy: 0.7721\n",
            "Epoch 11/100\n",
            "196/196 [==============================] - 3s 17ms/step - loss: 0.6246 - accuracy: 0.8037 - val_loss: 0.6919 - val_accuracy: 0.7893\n",
            "Epoch 12/100\n",
            "196/196 [==============================] - 3s 17ms/step - loss: 0.6080 - accuracy: 0.8133 - val_loss: 0.7770 - val_accuracy: 0.7698\n",
            "Epoch 13/100\n",
            "196/196 [==============================] - 3s 17ms/step - loss: 0.5890 - accuracy: 0.8199 - val_loss: 0.8338 - val_accuracy: 0.7740\n",
            "Epoch 14/100\n",
            "196/196 [==============================] - 3s 17ms/step - loss: 0.5713 - accuracy: 0.8274 - val_loss: 0.7493 - val_accuracy: 0.7847\n",
            "Epoch 15/100\n",
            "196/196 [==============================] - 3s 18ms/step - loss: 0.5589 - accuracy: 0.8335 - val_loss: 0.6587 - val_accuracy: 0.8068\n",
            "Epoch 16/100\n",
            "196/196 [==============================] - 3s 17ms/step - loss: 0.5440 - accuracy: 0.8402 - val_loss: 0.6109 - val_accuracy: 0.8206\n",
            "Epoch 17/100\n",
            "196/196 [==============================] - 3s 17ms/step - loss: 0.5358 - accuracy: 0.8420 - val_loss: 0.6691 - val_accuracy: 0.8123\n",
            "Epoch 18/100\n",
            "196/196 [==============================] - 3s 17ms/step - loss: 0.5343 - accuracy: 0.8443 - val_loss: 0.6760 - val_accuracy: 0.8011\n",
            "Epoch 19/100\n",
            "196/196 [==============================] - 3s 17ms/step - loss: 0.5215 - accuracy: 0.8501 - val_loss: 0.6851 - val_accuracy: 0.8153\n",
            "Epoch 20/100\n",
            "196/196 [==============================] - 3s 17ms/step - loss: 0.5139 - accuracy: 0.8521 - val_loss: 0.6699 - val_accuracy: 0.8200\n",
            "Epoch 21/100\n",
            "196/196 [==============================] - 3s 17ms/step - loss: 0.5056 - accuracy: 0.8559 - val_loss: 0.8208 - val_accuracy: 0.7856\n",
            "Epoch 22/100\n",
            "196/196 [==============================] - 3s 17ms/step - loss: 0.5041 - accuracy: 0.8573 - val_loss: 0.6973 - val_accuracy: 0.8157\n",
            "Epoch 23/100\n",
            "196/196 [==============================] - 3s 17ms/step - loss: 0.4976 - accuracy: 0.8611 - val_loss: 0.6136 - val_accuracy: 0.8329\n",
            "Epoch 24/100\n",
            "196/196 [==============================] - 3s 17ms/step - loss: 0.4917 - accuracy: 0.8632 - val_loss: 0.6813 - val_accuracy: 0.8244\n",
            "Epoch 25/100\n",
            "196/196 [==============================] - 3s 17ms/step - loss: 0.4910 - accuracy: 0.8642 - val_loss: 0.6480 - val_accuracy: 0.8255\n",
            "Epoch 26/100\n",
            "196/196 [==============================] - 3s 17ms/step - loss: 0.4897 - accuracy: 0.8649 - val_loss: 0.6609 - val_accuracy: 0.8219\n",
            "Epoch 27/100\n",
            "196/196 [==============================] - 3s 17ms/step - loss: 0.4816 - accuracy: 0.8685 - val_loss: 0.6612 - val_accuracy: 0.8339\n",
            "Epoch 28/100\n",
            "196/196 [==============================] - 3s 17ms/step - loss: 0.4786 - accuracy: 0.8701 - val_loss: 0.6858 - val_accuracy: 0.8154\n",
            "Epoch 29/100\n",
            "196/196 [==============================] - 3s 17ms/step - loss: 0.4756 - accuracy: 0.8734 - val_loss: 0.9814 - val_accuracy: 0.7872\n",
            "Epoch 30/100\n",
            "196/196 [==============================] - 3s 17ms/step - loss: 0.4767 - accuracy: 0.8734 - val_loss: 0.7179 - val_accuracy: 0.8190\n",
            "Epoch 31/100\n",
            "196/196 [==============================] - 3s 17ms/step - loss: 0.4714 - accuracy: 0.8738 - val_loss: 0.7394 - val_accuracy: 0.8187\n",
            "Epoch 32/100\n",
            "196/196 [==============================] - 3s 17ms/step - loss: 0.4761 - accuracy: 0.8757 - val_loss: 0.6792 - val_accuracy: 0.8377\n",
            "Epoch 33/100\n",
            "196/196 [==============================] - 3s 17ms/step - loss: 0.4691 - accuracy: 0.8777 - val_loss: 0.6748 - val_accuracy: 0.8328\n",
            "Epoch 34/100\n",
            "196/196 [==============================] - 3s 17ms/step - loss: 0.4730 - accuracy: 0.8771 - val_loss: 0.6305 - val_accuracy: 0.8422\n",
            "Epoch 35/100\n",
            "196/196 [==============================] - 3s 17ms/step - loss: 0.4691 - accuracy: 0.8782 - val_loss: 0.7198 - val_accuracy: 0.8309\n",
            "Epoch 36/100\n",
            "196/196 [==============================] - 3s 17ms/step - loss: 0.4644 - accuracy: 0.8814 - val_loss: 0.6818 - val_accuracy: 0.8311\n",
            "Epoch 37/100\n",
            "196/196 [==============================] - 3s 17ms/step - loss: 0.4633 - accuracy: 0.8826 - val_loss: 0.6523 - val_accuracy: 0.8436\n",
            "Epoch 38/100\n",
            "196/196 [==============================] - 3s 17ms/step - loss: 0.4639 - accuracy: 0.8819 - val_loss: 0.6399 - val_accuracy: 0.8448\n",
            "Epoch 39/100\n",
            "196/196 [==============================] - 3s 17ms/step - loss: 0.4595 - accuracy: 0.8839 - val_loss: 0.7131 - val_accuracy: 0.8404\n",
            "Epoch 40/100\n",
            "196/196 [==============================] - 3s 17ms/step - loss: 0.4632 - accuracy: 0.8831 - val_loss: 0.6364 - val_accuracy: 0.8331\n",
            "Epoch 41/100\n",
            "196/196 [==============================] - 3s 17ms/step - loss: 0.4606 - accuracy: 0.8854 - val_loss: 0.6383 - val_accuracy: 0.8424\n",
            "Epoch 42/100\n",
            "196/196 [==============================] - 3s 17ms/step - loss: 0.4562 - accuracy: 0.8861 - val_loss: 0.7018 - val_accuracy: 0.8360\n",
            "Epoch 43/100\n",
            "196/196 [==============================] - 3s 17ms/step - loss: 0.4580 - accuracy: 0.8854 - val_loss: 0.6565 - val_accuracy: 0.8419\n",
            "Epoch 44/100\n",
            "196/196 [==============================] - 3s 17ms/step - loss: 0.4611 - accuracy: 0.8866 - val_loss: 0.6736 - val_accuracy: 0.8423\n",
            "Epoch 45/100\n",
            "196/196 [==============================] - 3s 17ms/step - loss: 0.4613 - accuracy: 0.8874 - val_loss: 0.7972 - val_accuracy: 0.8074\n",
            "Epoch 46/100\n",
            "196/196 [==============================] - 3s 17ms/step - loss: 0.4580 - accuracy: 0.8879 - val_loss: 0.6761 - val_accuracy: 0.8376\n",
            "Epoch 47/100\n",
            "196/196 [==============================] - 3s 17ms/step - loss: 0.4553 - accuracy: 0.8882 - val_loss: 0.7094 - val_accuracy: 0.8478\n",
            "Epoch 48/100\n",
            "196/196 [==============================] - 3s 17ms/step - loss: 0.4592 - accuracy: 0.8893 - val_loss: 0.6946 - val_accuracy: 0.8367\n",
            "Epoch 49/100\n",
            "196/196 [==============================] - 3s 17ms/step - loss: 0.4613 - accuracy: 0.8891 - val_loss: 0.6772 - val_accuracy: 0.8363\n",
            "Epoch 50/100\n",
            "196/196 [==============================] - 3s 17ms/step - loss: 0.4565 - accuracy: 0.8917 - val_loss: 0.7841 - val_accuracy: 0.8298\n",
            "Epoch 51/100\n",
            "196/196 [==============================] - 3s 17ms/step - loss: 0.4637 - accuracy: 0.8890 - val_loss: 0.7133 - val_accuracy: 0.8178\n",
            "Epoch 52/100\n",
            "196/196 [==============================] - 3s 17ms/step - loss: 0.4586 - accuracy: 0.8919 - val_loss: 0.8145 - val_accuracy: 0.8350\n",
            "Epoch 53/100\n",
            "196/196 [==============================] - 3s 17ms/step - loss: 0.4621 - accuracy: 0.8914 - val_loss: 0.6673 - val_accuracy: 0.8458\n",
            "Epoch 54/100\n",
            "196/196 [==============================] - 3s 17ms/step - loss: 0.4624 - accuracy: 0.8911 - val_loss: 0.7047 - val_accuracy: 0.8245\n",
            "Epoch 55/100\n",
            "196/196 [==============================] - 3s 17ms/step - loss: 0.4636 - accuracy: 0.8887 - val_loss: 0.6300 - val_accuracy: 0.8426\n",
            "Epoch 56/100\n",
            "196/196 [==============================] - 3s 17ms/step - loss: 0.4626 - accuracy: 0.8894 - val_loss: 0.6840 - val_accuracy: 0.8485\n",
            "Epoch 57/100\n",
            "196/196 [==============================] - 3s 17ms/step - loss: 0.4532 - accuracy: 0.8945 - val_loss: 0.6487 - val_accuracy: 0.8469\n",
            "Epoch 58/100\n",
            "196/196 [==============================] - 3s 17ms/step - loss: 0.4553 - accuracy: 0.8931 - val_loss: 0.6272 - val_accuracy: 0.8530\n",
            "Epoch 59/100\n",
            "196/196 [==============================] - 3s 17ms/step - loss: 0.4587 - accuracy: 0.8932 - val_loss: 0.8105 - val_accuracy: 0.8321\n",
            "Epoch 60/100\n",
            "196/196 [==============================] - 3s 17ms/step - loss: 0.4612 - accuracy: 0.8935 - val_loss: 0.9782 - val_accuracy: 0.7986\n",
            "Epoch 61/100\n",
            "196/196 [==============================] - 3s 17ms/step - loss: 0.4543 - accuracy: 0.8944 - val_loss: 0.7191 - val_accuracy: 0.8453\n",
            "Epoch 62/100\n",
            "196/196 [==============================] - 3s 17ms/step - loss: 0.4616 - accuracy: 0.8936 - val_loss: 0.8060 - val_accuracy: 0.8205\n",
            "Epoch 63/100\n",
            "196/196 [==============================] - 3s 17ms/step - loss: 0.4585 - accuracy: 0.8948 - val_loss: 0.7753 - val_accuracy: 0.8370\n",
            "Epoch 64/100\n",
            "196/196 [==============================] - 3s 17ms/step - loss: 0.4591 - accuracy: 0.8952 - val_loss: 0.7541 - val_accuracy: 0.8404\n",
            "Epoch 65/100\n",
            "196/196 [==============================] - 3s 17ms/step - loss: 0.4530 - accuracy: 0.8955 - val_loss: 0.6275 - val_accuracy: 0.8512\n",
            "Epoch 66/100\n",
            "196/196 [==============================] - 3s 17ms/step - loss: 0.4536 - accuracy: 0.8973 - val_loss: 0.6712 - val_accuracy: 0.8500\n",
            "Epoch 67/100\n",
            "196/196 [==============================] - 3s 17ms/step - loss: 0.4559 - accuracy: 0.8962 - val_loss: 0.7474 - val_accuracy: 0.8341\n",
            "Epoch 68/100\n",
            "196/196 [==============================] - 3s 17ms/step - loss: 0.4532 - accuracy: 0.8975 - val_loss: 0.6600 - val_accuracy: 0.8385\n",
            "Epoch 69/100\n",
            "196/196 [==============================] - 3s 17ms/step - loss: 0.4548 - accuracy: 0.8962 - val_loss: 0.6067 - val_accuracy: 0.8543\n",
            "Epoch 70/100\n",
            "196/196 [==============================] - 3s 17ms/step - loss: 0.4541 - accuracy: 0.8987 - val_loss: 0.6422 - val_accuracy: 0.8490\n",
            "Epoch 71/100\n",
            "196/196 [==============================] - 3s 17ms/step - loss: 0.4580 - accuracy: 0.8964 - val_loss: 0.6294 - val_accuracy: 0.8475\n",
            "Epoch 72/100\n",
            "196/196 [==============================] - 3s 17ms/step - loss: 0.4584 - accuracy: 0.8960 - val_loss: 0.7445 - val_accuracy: 0.8433\n",
            "Epoch 73/100\n",
            "196/196 [==============================] - 3s 17ms/step - loss: 0.4560 - accuracy: 0.8986 - val_loss: 0.6953 - val_accuracy: 0.8462\n",
            "Epoch 74/100\n",
            "196/196 [==============================] - 3s 17ms/step - loss: 0.4566 - accuracy: 0.8977 - val_loss: 0.6898 - val_accuracy: 0.8520\n",
            "Epoch 75/100\n",
            "196/196 [==============================] - 3s 17ms/step - loss: 0.4539 - accuracy: 0.8993 - val_loss: 0.7594 - val_accuracy: 0.8454\n",
            "Epoch 76/100\n",
            "196/196 [==============================] - 3s 17ms/step - loss: 0.4562 - accuracy: 0.8987 - val_loss: 0.7256 - val_accuracy: 0.8326\n",
            "Epoch 77/100\n",
            "196/196 [==============================] - 3s 17ms/step - loss: 0.4564 - accuracy: 0.8985 - val_loss: 0.8066 - val_accuracy: 0.8430\n",
            "Epoch 78/100\n",
            "196/196 [==============================] - 3s 17ms/step - loss: 0.4473 - accuracy: 0.9026 - val_loss: 0.7407 - val_accuracy: 0.8499\n",
            "Epoch 79/100\n",
            "196/196 [==============================] - 3s 18ms/step - loss: 0.4504 - accuracy: 0.9003 - val_loss: 0.8027 - val_accuracy: 0.8205\n",
            "Epoch 80/100\n",
            "196/196 [==============================] - 3s 18ms/step - loss: 0.4465 - accuracy: 0.9018 - val_loss: 0.7733 - val_accuracy: 0.8289\n",
            "Epoch 81/100\n",
            "196/196 [==============================] - 3s 17ms/step - loss: 0.4548 - accuracy: 0.9003 - val_loss: 0.7176 - val_accuracy: 0.8387\n",
            "Epoch 82/100\n",
            "196/196 [==============================] - 3s 17ms/step - loss: 0.4491 - accuracy: 0.9020 - val_loss: 0.8251 - val_accuracy: 0.8321\n",
            "Epoch 83/100\n",
            "196/196 [==============================] - 3s 17ms/step - loss: 0.4523 - accuracy: 0.9038 - val_loss: 0.7953 - val_accuracy: 0.8406\n",
            "Epoch 84/100\n",
            "196/196 [==============================] - 3s 17ms/step - loss: 0.4503 - accuracy: 0.9032 - val_loss: 0.7014 - val_accuracy: 0.8482\n",
            "Epoch 85/100\n",
            "196/196 [==============================] - 3s 17ms/step - loss: 0.4452 - accuracy: 0.9028 - val_loss: 0.7178 - val_accuracy: 0.8372\n",
            "Epoch 86/100\n",
            "196/196 [==============================] - 3s 17ms/step - loss: 0.4512 - accuracy: 0.9016 - val_loss: 0.6494 - val_accuracy: 0.8518\n",
            "Epoch 87/100\n",
            "196/196 [==============================] - 3s 17ms/step - loss: 0.4501 - accuracy: 0.9041 - val_loss: 0.7407 - val_accuracy: 0.8462\n",
            "Epoch 88/100\n",
            "196/196 [==============================] - 3s 17ms/step - loss: 0.4566 - accuracy: 0.9017 - val_loss: 0.7166 - val_accuracy: 0.8467\n",
            "Epoch 89/100\n",
            "196/196 [==============================] - 3s 17ms/step - loss: 0.4457 - accuracy: 0.9048 - val_loss: 0.6826 - val_accuracy: 0.8538\n",
            "Epoch 90/100\n",
            "196/196 [==============================] - 3s 17ms/step - loss: 0.4459 - accuracy: 0.9041 - val_loss: 0.7088 - val_accuracy: 0.8543\n",
            "Epoch 91/100\n",
            "196/196 [==============================] - 3s 17ms/step - loss: 0.4472 - accuracy: 0.9033 - val_loss: 0.6569 - val_accuracy: 0.8535\n",
            "Epoch 92/100\n",
            "196/196 [==============================] - 3s 17ms/step - loss: 0.4500 - accuracy: 0.9038 - val_loss: 0.6033 - val_accuracy: 0.8629\n",
            "Epoch 93/100\n",
            "196/196 [==============================] - 3s 17ms/step - loss: 0.4492 - accuracy: 0.9046 - val_loss: 0.7071 - val_accuracy: 0.8303\n",
            "Epoch 94/100\n",
            "196/196 [==============================] - 3s 17ms/step - loss: 0.4444 - accuracy: 0.9065 - val_loss: 0.6067 - val_accuracy: 0.8593\n",
            "Epoch 95/100\n",
            "196/196 [==============================] - 3s 17ms/step - loss: 0.4448 - accuracy: 0.9046 - val_loss: 0.6316 - val_accuracy: 0.8592\n",
            "Epoch 96/100\n",
            "196/196 [==============================] - 3s 17ms/step - loss: 0.4444 - accuracy: 0.9057 - val_loss: 0.7456 - val_accuracy: 0.8486\n",
            "Epoch 97/100\n",
            "196/196 [==============================] - 3s 17ms/step - loss: 0.4434 - accuracy: 0.9059 - val_loss: 0.6526 - val_accuracy: 0.8556\n",
            "Epoch 98/100\n",
            "196/196 [==============================] - 3s 17ms/step - loss: 0.4512 - accuracy: 0.9037 - val_loss: 0.6702 - val_accuracy: 0.8540\n",
            "Epoch 99/100\n",
            "196/196 [==============================] - 3s 17ms/step - loss: 0.4462 - accuracy: 0.9043 - val_loss: 0.8802 - val_accuracy: 0.8390\n",
            "Epoch 100/100\n",
            "196/196 [==============================] - 3s 17ms/step - loss: 0.4491 - accuracy: 0.9048 - val_loss: 0.7428 - val_accuracy: 0.8406\n"
          ],
          "name": "stdout"
        }
      ]
    },
    {
      "cell_type": "code",
      "metadata": {
        "id": "I5QxELuH_-I3",
        "colab": {
          "base_uri": "https://localhost:8080/",
          "height": 295
        },
        "outputId": "0fe3cc77-19f9-4205-f779-60bc68bf0880"
      },
      "source": [
        "# plot accuracy\n",
        "plt.plot(history.history['accuracy'])\n",
        "plt.plot(history.history['val_accuracy'])\n",
        "plt.title('model accuracy')\n",
        "plt.ylabel('accuracy')\n",
        "plt.xlabel('epoch')\n",
        "plt.legend(['train', 'validation'], loc='upper left')\n",
        "plt.show()"
      ],
      "execution_count": 13,
      "outputs": [
        {
          "output_type": "display_data",
          "data": {
            "image/png": "[encoded data removed]",
            "text/plain": [
              "<Figure size 432x288 with 1 Axes>"
            ]
          },
          "metadata": {
            "tags": [],
            "needs_background": "light"
          }
        }
      ]
    },
    {
      "cell_type": "code",
      "metadata": {
        "id": "KqdP4yQ2_-I-",
        "colab": {
          "base_uri": "https://localhost:8080/",
          "height": 295
        },
        "outputId": "8ad61bfb-3e29-4437-9c89-77245830741d"
      },
      "source": [
        "# plot loss\n",
        "plt.plot(history.history['loss'])\n",
        "plt.plot(history.history['val_loss'])\n",
        "plt.title('model loss')\n",
        "plt.ylabel('loss')\n",
        "plt.xlabel('epoch')\n",
        "plt.legend(['train', 'validation'], loc='upper left')\n",
        "plt.show()"
      ],
      "execution_count": 14,
      "outputs": [
        {
          "output_type": "display_data",
          "data": {
            "image/png": "[encoded data removed]",
            "text/plain": [
              "<Figure size 432x288 with 1 Axes>"
            ]
          },
          "metadata": {
            "tags": [],
            "needs_background": "light"
          }
        }
      ]
    },
    {
      "cell_type": "code",
      "metadata": {
        "id": "K-ZIAAqj8QZv",
        "colab": {
          "base_uri": "https://localhost:8080/"
        },
        "outputId": "e6fd1a6b-aec6-4ed0-db76-93575b4dbbbf"
      },
      "source": [
        "#Step 4: Evaluation\n",
        "loss, accuracy_= model.evaluate(X_Test, Y_Test)\n",
        "print(\"Accuracy of this model is: \", accuracy_*100)"
      ],
      "execution_count": 15,
      "outputs": [
        {
          "output_type": "stream",
          "text": [
            "313/313 [==============================] - 1s 3ms/step - loss: 0.7428 - accuracy: 0.8406\n",
            "Accuracy of this model is:  84.06000137329102\n"
          ],
          "name": "stdout"
        }
      ]
    },
    {
      "cell_type": "code",
      "metadata": {
        "id": "JiSySPHP8QRP"
      },
      "source": [
        "preds = model.predict(X_Test)"
      ],
      "execution_count": 16,
      "outputs": []
    },
    {
      "cell_type": "code",
      "metadata": {
        "id": "cv-RFv4RRDkj",
        "colab": {
          "base_uri": "https://localhost:8080/"
        },
        "outputId": "da3a466e-92bf-417c-e59f-41fec9dea4bb"
      },
      "source": [
        "Y_Train.shape"
      ],
      "execution_count": 17,
      "outputs": [
        {
          "output_type": "execute_result",
          "data": {
            "text/plain": [
              "(50000, 10)"
            ]
          },
          "metadata": {
            "tags": []
          },
          "execution_count": 17
        }
      ]
    },
    {
      "cell_type": "code",
      "metadata": {
        "id": "P8ewsF6XQ9pA",
        "colab": {
          "base_uri": "https://localhost:8080/"
        },
        "outputId": "5e1d503a-7171-4812-d74f-e7779fd64f7f"
      },
      "source": [
        "preds.shape"
      ],
      "execution_count": 18,
      "outputs": [
        {
          "output_type": "execute_result",
          "data": {
            "text/plain": [
              "(10000, 10)"
            ]
          },
          "metadata": {
            "tags": []
          },
          "execution_count": 18
        }
      ]
    },
    {
      "cell_type": "code",
      "metadata": {
        "id": "o113wxzt8Qc3",
        "colab": {
          "base_uri": "https://localhost:8080/",
          "height": 477
        },
        "outputId": "1966ba31-220e-4f8c-bb8e-39dd0095f96b"
      },
      "source": [
        "show_random_examples(X_Test,Y_Test,preds)"
      ],
      "execution_count": 21,
      "outputs": [
        {
          "output_type": "stream",
          "text": [
            "Clipping input data to the valid range for imshow with RGB data ([0..1] for floats or [0..255] for integers).\n",
            "Clipping input data to the valid range for imshow with RGB data ([0..1] for floats or [0..255] for integers).\n",
            "Clipping input data to the valid range for imshow with RGB data ([0..1] for floats or [0..255] for integers).\n",
            "Clipping input data to the valid range for imshow with RGB data ([0..1] for floats or [0..255] for integers).\n",
            "Clipping input data to the valid range for imshow with RGB data ([0..1] for floats or [0..255] for integers).\n",
            "Clipping input data to the valid range for imshow with RGB data ([0..1] for floats or [0..255] for integers).\n",
            "Clipping input data to the valid range for imshow with RGB data ([0..1] for floats or [0..255] for integers).\n",
            "Clipping input data to the valid range for imshow with RGB data ([0..1] for floats or [0..255] for integers).\n",
            "Clipping input data to the valid range for imshow with RGB data ([0..1] for floats or [0..255] for integers).\n",
            "Clipping input data to the valid range for imshow with RGB data ([0..1] for floats or [0..255] for integers).\n"
          ],
          "name": "stderr"
        },
        {
          "output_type": "display_data",
          "data": {
            "image/png": "[encoded data removed]",
            "text/plain": [
              "<Figure size 720x360 with 10 Axes>"
            ]
          },
          "metadata": {
            "tags": []
          }
        }
      ]
    },
    {
      "cell_type": "code",
      "metadata": {
        "id": "JzMSGaqVQ5pe"
      },
      "source": [
        ""
      ],
      "execution_count": 19,
      "outputs": []
    }
  ]
}