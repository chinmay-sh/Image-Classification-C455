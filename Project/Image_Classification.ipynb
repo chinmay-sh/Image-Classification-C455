{
  "nbformat": 4,
  "nbformat_minor": 0,
  "metadata": {
    "colab": {
      "name": "Image_Classification.ipynb",
      "provenance": [],
      "authorship_tag": "ABX9TyPrWdC8Y76uKFZBCuUSBF/M",
      "include_colab_link": true
    },
    "kernelspec": {
      "name": "python3",
      "display_name": "Python 3"
    }
  },
  "cells": [
    {
      "cell_type": "markdown",
      "metadata": {
        "id": "view-in-github",
        "colab_type": "text"
      },
      "source": [
        "<a href=\"https://colab.research.google.com/github/the-redlord/comp455/blob/master/Project/Image_Classification.ipynb\" target=\"_parent\"><img src=\"https://colab.research.google.com/assets/colab-badge.svg\" alt=\"Open In Colab\"/></a>"
      ]
    },
    {
      "cell_type": "markdown",
      "metadata": {
        "id": "_0FawdLKa7-7"
      },
      "source": [
        "# COMP 455 - Project\n",
        "\n",
        "## Image Classification"
      ]
    },
    {
      "cell_type": "code",
      "metadata": {
        "id": "BToooo4DXM0z"
      },
      "source": [
        ""
      ],
      "execution_count": null,
      "outputs": []
    }
  ]
}