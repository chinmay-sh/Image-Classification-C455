{
  "nbformat": 4,
  "nbformat_minor": 0,
  "metadata": {
    "colab": {
      "name": "Team5_milestone1.ipynb",
      "provenance": [],
      "collapsed_sections": [],
      "toc_visible": true,
      "include_colab_link": true
    },
    "kernelspec": {
      "name": "python37664bitbasecondac4937656be8544b7a6d6182776239ee9",
      "display_name": "Python 3.7.6 64-bit ('base': conda)"
    },
    "accelerator": "GPU"
  },
  "cells": [
    {
      "cell_type": "markdown",
      "metadata": {
        "id": "view-in-github",
        "colab_type": "text"
      },
      "source": [
        "<a href=\"https://colab.research.google.com/github/the-redlord/comp455/blob/master/Project/Team5_finalv4.ipynb\" target=\"_parent\"><img src=\"https://colab.research.google.com/assets/colab-badge.svg\" alt=\"Open In Colab\"/></a>"
      ]
    },
    {
      "cell_type": "code",
      "metadata": {
        "id": "dPnJbqMCZKNE",
        "colab": {
          "base_uri": "https://localhost:8080/"
        },
        "outputId": "5ce3b9c2-c918-4b4b-b835-935d468e96d4"
      },
      "source": [
        "#Step 1: import\n",
        "\n",
        "import tensorflow as tf\n",
        "from tensorflow import keras\n",
        "\n",
        "import os\n",
        "\n",
        "from keras import regularizers\n",
        "from keras.models import Sequential\n",
        "from keras.layers import Dense, Dropout, Flatten\n",
        "from keras.optimizers import RMSprop\n",
        "from keras.constraints import maxnorm\n",
        "from keras.layers import  Conv2D, MaxPooling2D, BatchNormalization, Input\n",
        "from keras.preprocessing.image import ImageDataGenerator\n",
        "\n",
        "import cv2\n",
        "import numpy as np\n",
        "import matplotlib.pyplot as plt\n",
        "%matplotlib inline\n",
        "\n",
        "if not os.path.isdir('models'):\n",
        "    os.mkdir('models')\n",
        "    \n",
        "print('TensorFlow version:', tf.__version__)\n",
        "print('Is using GPU?', tf.test.is_gpu_available())\n",
        "tf.config.list_physical_devices('GPU')"
      ],
      "execution_count": 1,
      "outputs": [
        {
          "output_type": "stream",
          "text": [
            "TensorFlow version: 2.3.0\n",
            "WARNING:tensorflow:From <ipython-input-1-21cfbed13254>:25: is_gpu_available (from tensorflow.python.framework.test_util) is deprecated and will be removed in a future version.\n",
            "Instructions for updating:\n",
            "Use `tf.config.list_physical_devices('GPU')` instead.\n",
            "Is using GPU? True\n"
          ],
          "name": "stdout"
        },
        {
          "output_type": "execute_result",
          "data": {
            "text/plain": [
              "[PhysicalDevice(name='/physical_device:GPU:0', device_type='GPU')]"
            ]
          },
          "metadata": {
            "tags": []
          },
          "execution_count": 1
        }
      ]
    },
    {
      "cell_type": "code",
      "metadata": {
        "id": "XP3fJ7kQCwTO",
        "outputId": "c5d946a4-f807-471a-b7b0-9f72f1908b51",
        "colab": {
          "base_uri": "https://localhost:8080/"
        }
      },
      "source": [
        "# copy data from gdrive\n",
        "\n",
        "from google.colab import drive\n",
        "drive.mount('/content/drive')"
      ],
      "execution_count": 22,
      "outputs": [
        {
          "output_type": "stream",
          "text": [
            "Mounted at /content/drive\n"
          ],
          "name": "stdout"
        }
      ]
    },
    {
      "cell_type": "code",
      "metadata": {
        "id": "smPUtqv4CzT9",
        "outputId": "cb54af2f-19ee-499a-8038-fe891cb92f39",
        "colab": {
          "base_uri": "https://localhost:8080/"
        }
      },
      "source": [
        "!ls /content/drive/MyDrive/C455FinalProject/"
      ],
      "execution_count": 26,
      "outputs": [
        {
          "output_type": "stream",
          "text": [
            "airplane.jpg  cat.jpg  dog.jpg\tmodel_TermProject_Final.h5\n"
          ],
          "name": "stdout"
        }
      ]
    },
    {
      "cell_type": "code",
      "metadata": {
        "id": "wYu7PdGHDOhE"
      },
      "source": [
        "!cp -R /content/drive/MyDrive/C455FinalProject/ /content/"
      ],
      "execution_count": 29,
      "outputs": []
    },
    {
      "cell_type": "code",
      "metadata": {
        "id": "sqLed2WntSDN"
      },
      "source": [
        "#Load the dataset\n",
        "(X_Train, Y_Train),(X_Test, Y_Test) = tf.keras.datasets.cifar10.load_data()"
      ],
      "execution_count": 2,
      "outputs": []
    },
    {
      "cell_type": "code",
      "metadata": {
        "id": "AwZUGqJUtSHP",
        "colab": {
          "base_uri": "https://localhost:8080/",
          "height": 209
        },
        "outputId": "807f3360-0953-4697-db78-d09e34ac9aeb"
      },
      "source": [
        "import matplotlib.pyplot as plt\n",
        "plt.figure(figsize=(20,10))\n",
        "plt.subplot(330+1+1)\n",
        "plt.imshow(X_Train[1])\n",
        "plt.show()\n",
        "#print(Y_Train)"
      ],
      "execution_count": 3,
      "outputs": [
        {
          "output_type": "display_data",
          "data": {
            "image/png": "[encoded data removed]",
            "text/plain": [
              "<Figure size 1440x720 with 1 Axes>"
            ]
          },
          "metadata": {
            "tags": [],
            "needs_background": "light"
          }
        }
      ]
    },
    {
      "cell_type": "code",
      "metadata": {
        "id": "MbZY4KqHtSLI"
      },
      "source": [
        "#Step 2: Data pre-processiing \n",
        "\n",
        "\n",
        "#Normalize the dataset\n",
        "X_Train = X_Train.astype('float32')\n",
        "X_Test = X_Test.astype('float32')\n",
        "\n",
        "# X_Train = X_Train/255.0\n",
        "# X_Test= X_Test/255.0\n",
        "\n",
        "#z-score\n",
        "mean = np.mean(X_Train,axis=(0,1,2,3))\n",
        "std = np.std(X_Train,axis=(0,1,2,3))\n",
        "X_Train = (X_Train-mean)/(std+1e-7)\n",
        "X_Test = (X_Test-mean)/(std+1e-7)"
      ],
      "execution_count": 4,
      "outputs": []
    },
    {
      "cell_type": "code",
      "metadata": {
        "id": "KwM7fpxpQF_b",
        "colab": {
          "base_uri": "https://localhost:8080/"
        },
        "outputId": "19f9068d-eb71-486d-fc7c-0039b0952e4b"
      },
      "source": [
        "X_Train.shape"
      ],
      "execution_count": 5,
      "outputs": [
        {
          "output_type": "execute_result",
          "data": {
            "text/plain": [
              "(50000, 32, 32, 3)"
            ]
          },
          "metadata": {
            "tags": []
          },
          "execution_count": 5
        }
      ]
    },
    {
      "cell_type": "code",
      "metadata": {
        "id": "ogw5rcVBzXC7"
      },
      "source": [
        "#Now one hot encoding on Y_Test\n",
        "\n",
        "#convert vectors into Binary class matrices\n",
        "\n",
        "Y_Train=keras.utils.to_categorical(Y_Train)\n",
        "Y_Test=keras.utils.to_categorical(Y_Test)"
      ],
      "execution_count": 6,
      "outputs": []
    },
    {
      "cell_type": "code",
      "metadata": {
        "id": "2TPQkA6GNnZl"
      },
      "source": [
        "cifar_classes = ['aeroplane', 'automobile', 'bird', 'cat', 'deer', 'dog', 'frog', 'horse', 'ship', 'truck']"
      ],
      "execution_count": 7,
      "outputs": []
    },
    {
      "cell_type": "code",
      "metadata": {
        "id": "lu6ucBoANhnR",
        "colab": {
          "base_uri": "https://localhost:8080/",
          "height": 477
        },
        "outputId": "03b1acd2-c8b2-4c74-ce28-9816ca59185e"
      },
      "source": [
        "def show_random_examples(x,y,p):\n",
        "  indices = np.random.choice(range(x.shape[0]),10,replace=False)\n",
        "  x = x[indices]\n",
        "  y = y[indices]\n",
        "  p = p[indices]\n",
        "\n",
        "  plt.figure(figsize=(10,5))\n",
        "  for i in range(10):\n",
        "    plt.subplot(2,5,1+i)\n",
        "    plt.imshow(x[i])\n",
        "    plt.xticks([])\n",
        "    plt.yticks([])\n",
        "\n",
        "    # show correct prediction in green and wrong in red\n",
        "    col ='green' if np.argmax(y[i]) == np.argmax(p[i]) else 'red'\n",
        "    plt.xlabel(cifar_classes[np.argmax(p[i])],color=col)\n",
        "  plt.show()\n",
        "\n",
        "show_random_examples(X_Train,Y_Train,Y_Train)"
      ],
      "execution_count": 8,
      "outputs": [
        {
          "output_type": "stream",
          "text": [
            "Clipping input data to the valid range for imshow with RGB data ([0..1] for floats or [0..255] for integers).\n",
            "Clipping input data to the valid range for imshow with RGB data ([0..1] for floats or [0..255] for integers).\n",
            "Clipping input data to the valid range for imshow with RGB data ([0..1] for floats or [0..255] for integers).\n",
            "Clipping input data to the valid range for imshow with RGB data ([0..1] for floats or [0..255] for integers).\n",
            "Clipping input data to the valid range for imshow with RGB data ([0..1] for floats or [0..255] for integers).\n",
            "Clipping input data to the valid range for imshow with RGB data ([0..1] for floats or [0..255] for integers).\n",
            "Clipping input data to the valid range for imshow with RGB data ([0..1] for floats or [0..255] for integers).\n",
            "Clipping input data to the valid range for imshow with RGB data ([0..1] for floats or [0..255] for integers).\n",
            "Clipping input data to the valid range for imshow with RGB data ([0..1] for floats or [0..255] for integers).\n",
            "Clipping input data to the valid range for imshow with RGB data ([0..1] for floats or [0..255] for integers).\n"
          ],
          "name": "stderr"
        },
        {
          "output_type": "display_data",
          "data": {
            "image/png": "[encoded data removed]",
            "text/plain": [
              "<Figure size 720x360 with 10 Axes>"
            ]
          },
          "metadata": {
            "tags": []
          }
        }
      ]
    },
    {
      "cell_type": "code",
      "metadata": {
        "id": "u0YS8iFXzXKr"
      },
      "source": [
        "#Check the shape of Y_Train\n",
        "num_classes = Y_Train.shape[1]"
      ],
      "execution_count": 9,
      "outputs": []
    },
    {
      "cell_type": "code",
      "metadata": {
        "id": "axfP8D-8zXT8"
      },
      "source": [
        "#Step 3: Model Creation\n",
        "\n",
        "weightPath = 'C455FinalProject/model_TermProject_Final.h5'\n",
        "\n",
        "def modelGen(weights_path=None):\n",
        "    model = None\n",
        "\n",
        "    if weights_path != None:\n",
        "        model = tf.keras.models.load_model(weights_path)\n",
        "    else:\n",
        "        weight_decay = 1e-4\n",
        "\n",
        "        model = Sequential()\n",
        "\n",
        "        model.add(Input(shape=(32,32,3)))\n",
        "\n",
        "        model.add(Conv2D(32,3,activation='elu',padding='same',kernel_regularizer=regularizers.l2(weight_decay)))\n",
        "        model.add(BatchNormalization())\n",
        "        model.add(Conv2D(32,3,activation='elu',padding='same',kernel_regularizer=regularizers.l2(weight_decay)))\n",
        "        model.add(MaxPooling2D(pool_size=2))\n",
        "        model.add(Dropout(0.2))\n",
        "\n",
        "        model.add(Conv2D(64,3,activation='elu',padding='same',kernel_regularizer=regularizers.l2(weight_decay)))\n",
        "        model.add(BatchNormalization())\n",
        "        model.add(Conv2D(64,3,activation='elu',padding='same',kernel_regularizer=regularizers.l2(weight_decay)))\n",
        "        model.add(MaxPooling2D(pool_size=2))\n",
        "        model.add(Dropout(0.3))\n",
        "\n",
        "        model.add(Conv2D(128,3,activation='elu',padding='same',kernel_regularizer=regularizers.l2(weight_decay)))\n",
        "        model.add(BatchNormalization())\n",
        "        model.add(Conv2D(128,3,activation='elu',padding='same',kernel_regularizer=regularizers.l2(weight_decay)))\n",
        "        model.add(MaxPooling2D(pool_size=2))\n",
        "        model.add(Dropout(0.4))\n",
        "\n",
        "        model.add(Flatten())\n",
        "\n",
        "        model.add(Dense(128, activation='elu'))\n",
        "        model.add(Dropout(0.2))\n",
        "\n",
        "        model.add(Dense(10, activation= 'softmax'))    \n",
        "\n",
        "    return model\n",
        "\n",
        "\n",
        "# datagen = ImageDataGenerator(\n",
        "#     featurewise_center=False,\n",
        "#     samplewise_center=False,\n",
        "#     featurewise_std_normalization=False,\n",
        "#     samplewise_std_normalization=False,\n",
        "#     zca_whitening=False,\n",
        "#     rotation_range=15,\n",
        "#     width_shift_range=0.1,\n",
        "#     height_shift_range=0.1,\n",
        "#     horizontal_flip=True,\n",
        "#     vertical_flip=False\n",
        "#     )\n",
        "# datagen.fit(X_Train)\n",
        "\n",
        "\n",
        "#compile the model\n",
        "\n",
        "opt_rms = RMSprop(lr=0.001,decay=1e-6)\n",
        "\n",
        "model = modelGen(weightPath)\n",
        "\n",
        "model.compile(loss='categorical_crossentropy', optimizer=opt_rms, metrics = ['accuracy'])"
      ],
      "execution_count": 10,
      "outputs": []
    },
    {
      "cell_type": "code",
      "metadata": {
        "id": "vEk2srvJzXOP",
        "colab": {
          "base_uri": "https://localhost:8080/"
        },
        "outputId": "0c375480-678f-4e94-99ef-9bc1dad5466e"
      },
      "source": [
        "model.summary()"
      ],
      "execution_count": 11,
      "outputs": [
        {
          "output_type": "stream",
          "text": [
            "Model: \"sequential\"\n",
            "_________________________________________________________________\n",
            "Layer (type)                 Output Shape              Param #   \n",
            "=================================================================\n",
            "conv2d (Conv2D)              (None, 32, 32, 32)        896       \n",
            "_________________________________________________________________\n",
            "batch_normalization (BatchNo (None, 32, 32, 32)        128       \n",
            "_________________________________________________________________\n",
            "conv2d_1 (Conv2D)            (None, 32, 32, 32)        9248      \n",
            "_________________________________________________________________\n",
            "max_pooling2d (MaxPooling2D) (None, 16, 16, 32)        0         \n",
            "_________________________________________________________________\n",
            "dropout (Dropout)            (None, 16, 16, 32)        0         \n",
            "_________________________________________________________________\n",
            "conv2d_2 (Conv2D)            (None, 16, 16, 64)        18496     \n",
            "_________________________________________________________________\n",
            "batch_normalization_1 (Batch (None, 16, 16, 64)        256       \n",
            "_________________________________________________________________\n",
            "conv2d_3 (Conv2D)            (None, 16, 16, 64)        36928     \n",
            "_________________________________________________________________\n",
            "max_pooling2d_1 (MaxPooling2 (None, 8, 8, 64)          0         \n",
            "_________________________________________________________________\n",
            "dropout_1 (Dropout)          (None, 8, 8, 64)          0         \n",
            "_________________________________________________________________\n",
            "conv2d_4 (Conv2D)            (None, 8, 8, 128)         73856     \n",
            "_________________________________________________________________\n",
            "batch_normalization_2 (Batch (None, 8, 8, 128)         512       \n",
            "_________________________________________________________________\n",
            "conv2d_5 (Conv2D)            (None, 8, 8, 128)         147584    \n",
            "_________________________________________________________________\n",
            "max_pooling2d_2 (MaxPooling2 (None, 4, 4, 128)         0         \n",
            "_________________________________________________________________\n",
            "dropout_2 (Dropout)          (None, 4, 4, 128)         0         \n",
            "_________________________________________________________________\n",
            "flatten (Flatten)            (None, 2048)              0         \n",
            "_________________________________________________________________\n",
            "dense (Dense)                (None, 128)               262272    \n",
            "_________________________________________________________________\n",
            "dropout_3 (Dropout)          (None, 128)               0         \n",
            "_________________________________________________________________\n",
            "dense_1 (Dense)              (None, 10)                1290      \n",
            "=================================================================\n",
            "Total params: 551,466\n",
            "Trainable params: 551,018\n",
            "Non-trainable params: 448\n",
            "_________________________________________________________________\n"
          ],
          "name": "stdout"
        }
      ]
    },
    {
      "cell_type": "code",
      "metadata": {
        "id": "Y-eSnbTwzW-N",
        "colab": {
          "base_uri": "https://localhost:8080/"
        },
        "outputId": "91209cf6-f6f8-4abc-b11c-58b3d929da5c"
      },
      "source": [
        "history = None\n",
        "if weightPath == None:\n",
        "  history = model.fit(X_Train, Y_Train, validation_data=(X_Test,Y_Test), epochs=50, batch_size=128,callbacks=[\n",
        "                tf.keras.callbacks.ModelCheckpoint('models/model_{val_accuracy:.3f}.h5',\n",
        "                                                   save_best_only=True,save_weights_only=False,\n",
        "                                                   monitor='val_accuracy')\n",
        "              ])\n",
        "  \n",
        "  # plot accuracy\n",
        "  plt.plot(history.history['accuracy'])\n",
        "  plt.plot(history.history['val_accuracy'])\n",
        "  plt.title('model accuracy')\n",
        "  plt.ylabel('accuracy')\n",
        "  plt.xlabel('epoch')\n",
        "  plt.legend(['train', 'validation'], loc='upper left')\n",
        "  plt.show()\n",
        "\n",
        "  # plot loss\n",
        "  plt.plot(history.history['loss'])\n",
        "  plt.plot(history.history['val_loss'])\n",
        "  plt.title('model loss')\n",
        "  plt.ylabel('loss')\n",
        "  plt.xlabel('epoch')\n",
        "  plt.legend(['train', 'validation'], loc='upper left')\n",
        "  plt.show()\n",
        "\n",
        "  model.save('model_TermProject_Final.h5')\n",
        "\n",
        "  print(\"Model saved!\")\n",
        "\n",
        "else:\n",
        "  print(\"Model loaded from file!\")"
      ],
      "execution_count": 12,
      "outputs": [
        {
          "output_type": "stream",
          "text": [
            "Model loaded from file!\n"
          ],
          "name": "stdout"
        }
      ]
    },
    {
      "cell_type": "code",
      "metadata": {
        "id": "K-ZIAAqj8QZv",
        "colab": {
          "base_uri": "https://localhost:8080/"
        },
        "outputId": "fcb60adc-e385-48b3-a91f-91760cdb0c9a"
      },
      "source": [
        "#Step 4: Evaluation\n",
        "loss, accuracy_= model.evaluate(X_Test, Y_Test)\n",
        "print(\"Accuracy of this model is: \", accuracy_*100)"
      ],
      "execution_count": 13,
      "outputs": [
        {
          "output_type": "stream",
          "text": [
            "313/313 [==============================] - 1s 4ms/step - loss: 0.7068 - accuracy: 0.8533\n",
            "Accuracy of this model is:  85.32999753952026\n"
          ],
          "name": "stdout"
        }
      ]
    },
    {
      "cell_type": "code",
      "metadata": {
        "id": "JiSySPHP8QRP"
      },
      "source": [
        "preds = model.predict(X_Test)"
      ],
      "execution_count": 14,
      "outputs": []
    },
    {
      "cell_type": "code",
      "metadata": {
        "id": "cv-RFv4RRDkj",
        "colab": {
          "base_uri": "https://localhost:8080/"
        },
        "outputId": "866fb4d8-d714-4632-b3a1-a77c5ddfcb59"
      },
      "source": [
        "Y_Train.shape"
      ],
      "execution_count": 15,
      "outputs": [
        {
          "output_type": "execute_result",
          "data": {
            "text/plain": [
              "(50000, 10)"
            ]
          },
          "metadata": {
            "tags": []
          },
          "execution_count": 15
        }
      ]
    },
    {
      "cell_type": "code",
      "metadata": {
        "id": "P8ewsF6XQ9pA",
        "colab": {
          "base_uri": "https://localhost:8080/"
        },
        "outputId": "9decc348-5ecd-4719-fa98-7edaf02324d3"
      },
      "source": [
        "preds.shape"
      ],
      "execution_count": 16,
      "outputs": [
        {
          "output_type": "execute_result",
          "data": {
            "text/plain": [
              "(10000, 10)"
            ]
          },
          "metadata": {
            "tags": []
          },
          "execution_count": 16
        }
      ]
    },
    {
      "cell_type": "code",
      "metadata": {
        "id": "o113wxzt8Qc3",
        "colab": {
          "base_uri": "https://localhost:8080/",
          "height": 477
        },
        "outputId": "7853fbb3-6745-44d5-9aa5-9b41d069f2fd"
      },
      "source": [
        "show_random_examples(X_Test,Y_Test,preds)"
      ],
      "execution_count": 17,
      "outputs": [
        {
          "output_type": "stream",
          "text": [
            "Clipping input data to the valid range for imshow with RGB data ([0..1] for floats or [0..255] for integers).\n",
            "Clipping input data to the valid range for imshow with RGB data ([0..1] for floats or [0..255] for integers).\n",
            "Clipping input data to the valid range for imshow with RGB data ([0..1] for floats or [0..255] for integers).\n",
            "Clipping input data to the valid range for imshow with RGB data ([0..1] for floats or [0..255] for integers).\n",
            "Clipping input data to the valid range for imshow with RGB data ([0..1] for floats or [0..255] for integers).\n",
            "Clipping input data to the valid range for imshow with RGB data ([0..1] for floats or [0..255] for integers).\n",
            "Clipping input data to the valid range for imshow with RGB data ([0..1] for floats or [0..255] for integers).\n",
            "Clipping input data to the valid range for imshow with RGB data ([0..1] for floats or [0..255] for integers).\n",
            "Clipping input data to the valid range for imshow with RGB data ([0..1] for floats or [0..255] for integers).\n",
            "Clipping input data to the valid range for imshow with RGB data ([0..1] for floats or [0..255] for integers).\n"
          ],
          "name": "stderr"
        },
        {
          "output_type": "display_data",
          "data": {
            "image/png": "[encoded data removed]",
            "text/plain": [
              "<Figure size 720x360 with 10 Axes>"
            ]
          },
          "metadata": {
            "tags": []
          }
        }
      ]
    },
    {
      "cell_type": "markdown",
      "metadata": {
        "id": "C8Pm6nLfmzzz"
      },
      "source": [
        "# Reading a single image and giving prediction"
      ]
    },
    {
      "cell_type": "code",
      "metadata": {
        "id": "SfDvGKHtaOdh",
        "colab": {
          "base_uri": "https://localhost:8080/"
        },
        "outputId": "652c55cc-0390-4a25-c192-05dd585342ef"
      },
      "source": [
        "!ls"
      ],
      "execution_count": 18,
      "outputs": [
        {
          "output_type": "stream",
          "text": [
            "models\tmodel_TermProject_Final.h5  sample_data\n"
          ],
          "name": "stdout"
        }
      ]
    },
    {
      "cell_type": "code",
      "metadata": {
        "id": "LDsrN-Hva9dC"
      },
      "source": [
        "from google.colab.patches import cv2_imshow"
      ],
      "execution_count": 30,
      "outputs": []
    },
    {
      "cell_type": "code",
      "metadata": {
        "id": "-cWLwU5xgDRw"
      },
      "source": [
        "imList = np.array([])"
      ],
      "execution_count": 31,
      "outputs": []
    },
    {
      "cell_type": "code",
      "metadata": {
        "id": "iV0F-vsyaI3I",
        "colab": {
          "base_uri": "https://localhost:8080/",
          "height": 49
        },
        "outputId": "97649605-de37-477a-e02f-0849815fadd1"
      },
      "source": [
        "im = cv2.resize(cv2.imread('C455FinalProject/airplane.jpg'), (32, 32)).astype(np.float32)\n",
        "cv2_imshow(im)\n",
        "imList = np.append(imList,im)"
      ],
      "execution_count": 32,
      "outputs": [
        {
          "output_type": "display_data",
          "data": {
            "image/png": "[encoded data removed]",
            "text/plain": [
              "<PIL.Image.Image image mode=RGB size=32x32 at 0x7F95900FC5C0>"
            ]
          },
          "metadata": {
            "tags": []
          }
        }
      ]
    },
    {
      "cell_type": "code",
      "metadata": {
        "id": "OvJTmb-7qzbK"
      },
      "source": [
        "imList = imList.reshape(1, 32, 32, 3)"
      ],
      "execution_count": 33,
      "outputs": []
    },
    {
      "cell_type": "code",
      "metadata": {
        "id": "CEZPFtcqq4SK",
        "colab": {
          "base_uri": "https://localhost:8080/"
        },
        "outputId": "57247184-d77d-407b-eeba-a45859c7391d"
      },
      "source": [
        "imList.shape"
      ],
      "execution_count": 34,
      "outputs": [
        {
          "output_type": "execute_result",
          "data": {
            "text/plain": [
              "(1, 32, 32, 3)"
            ]
          },
          "metadata": {
            "tags": []
          },
          "execution_count": 34
        }
      ]
    },
    {
      "cell_type": "code",
      "metadata": {
        "id": "zsv1UXoybNRI",
        "outputId": "6ce91c92-e7fa-4d73-a718-656ada8683bf",
        "colab": {
          "base_uri": "https://localhost:8080/",
          "height": 49
        }
      },
      "source": [
        "im = cv2.resize(cv2.imread('C455FinalProject/cat.jpg'), (32, 32)).astype(np.float32)\n",
        "cv2_imshow(im)\n",
        "imList = np.append(imList,im)"
      ],
      "execution_count": 35,
      "outputs": [
        {
          "output_type": "display_data",
          "data": {
            "image/png": "[encoded data removed]",
            "text/plain": [
              "<PIL.Image.Image image mode=RGB size=32x32 at 0x7F9590063860>"
            ]
          },
          "metadata": {
            "tags": []
          }
        }
      ]
    },
    {
      "cell_type": "code",
      "metadata": {
        "colab": {
          "base_uri": "https://localhost:8080/",
          "height": 49
        },
        "id": "eRaQ5fICY50J",
        "outputId": "b620a1ea-a1a3-4d2c-e0ec-aced19a89b9b"
      },
      "source": [
        "im = cv2.resize(cv2.imread('C455FinalProject/dog.jpg'), (32, 32)).astype(np.float32)\n",
        "cv2_imshow(im)\n",
        "imList = np.append(imList,im)"
      ],
      "execution_count": 36,
      "outputs": [
        {
          "output_type": "display_data",
          "data": {
            "image/png": "[encoded data removed]",
            "text/plain": [
              "<PIL.Image.Image image mode=RGB size=32x32 at 0x7F9590063E48>"
            ]
          },
          "metadata": {
            "tags": []
          }
        }
      ]
    },
    {
      "cell_type": "code",
      "metadata": {
        "id": "8H4R0KHcgpcr"
      },
      "source": [
        "imList = imList.reshape(3, 32, 32, 3)"
      ],
      "execution_count": 39,
      "outputs": []
    },
    {
      "cell_type": "code",
      "metadata": {
        "id": "uZTfRVLtfdXA",
        "colab": {
          "base_uri": "https://localhost:8080/"
        },
        "outputId": "c8c45c9d-52ac-4b31-f21e-6b0408c0b795"
      },
      "source": [
        "imList.shape"
      ],
      "execution_count": 41,
      "outputs": [
        {
          "output_type": "execute_result",
          "data": {
            "text/plain": [
              "(3, 32, 32, 3)"
            ]
          },
          "metadata": {
            "tags": []
          },
          "execution_count": 41
        }
      ]
    },
    {
      "cell_type": "code",
      "metadata": {
        "id": "zs6dJQRHbR0q"
      },
      "source": [
        "# model.fit(datagen.flow(x_train, y_train, batch_size=32),\n",
        "#           steps_per_epoch=len(x_train) / 32, epochs=epochs)\n",
        "\n",
        "singlePred = model.predict(imList)"
      ],
      "execution_count": 42,
      "outputs": []
    },
    {
      "cell_type": "code",
      "metadata": {
        "id": "OSRTVb_ThHwf"
      },
      "source": [
        "yImList = tf.keras.utils.to_categorical([0,3,5], num_classes=10)"
      ],
      "execution_count": 43,
      "outputs": []
    },
    {
      "cell_type": "code",
      "metadata": {
        "id": "fRiQRFn4jBup"
      },
      "source": [
        "def show_single_preds(x,y,p):\n",
        "  for i in range(x.shape[0]):\n",
        "    cv2_imshow(x[i])\n",
        "    if np.argmax(y[i]) == np.argmax(p[i]):\n",
        "      print(cifar_classes[np.argmax(p[i])])\n",
        "      print(\"Correct\")\n",
        "    else:\n",
        "      print(cifar_classes[np.argmax(p[i])])\n",
        "      print(\"Incorrect\")\n",
        "    print(\"+++++++++++++++++++++++++++++\")"
      ],
      "execution_count": 44,
      "outputs": []
    },
    {
      "cell_type": "code",
      "metadata": {
        "id": "WICwiHSKhAWI",
        "colab": {
          "base_uri": "https://localhost:8080/",
          "height": 282
        },
        "outputId": "f1ec0d1b-69b9-4dde-8ae8-10d5482dc337"
      },
      "source": [
        "show_single_preds(imList,yImList,singlePred)"
      ],
      "execution_count": 45,
      "outputs": [
        {
          "output_type": "display_data",
          "data": {
            "image/png": "[encoded data removed]",
            "text/plain": [
              "<PIL.Image.Image image mode=RGB size=32x32 at 0x7F9590022DD8>"
            ]
          },
          "metadata": {
            "tags": []
          }
        },
        {
          "output_type": "stream",
          "text": [
            "aeroplane\n",
            "Correct\n",
            "+++++++++++++++++++++++++++++\n"
          ],
          "name": "stdout"
        },
        {
          "output_type": "display_data",
          "data": {
            "image/png": "[encoded data removed]",
            "text/plain": [
              "<PIL.Image.Image image mode=RGB size=32x32 at 0x7F9590022CF8>"
            ]
          },
          "metadata": {
            "tags": []
          }
        },
        {
          "output_type": "stream",
          "text": [
            "aeroplane\n",
            "Incorrect\n",
            "+++++++++++++++++++++++++++++\n"
          ],
          "name": "stdout"
        },
        {
          "output_type": "display_data",
          "data": {
            "image/png": "[encoded data removed]",
            "text/plain": [
              "<PIL.Image.Image image mode=RGB size=32x32 at 0x7F9590022DD8>"
            ]
          },
          "metadata": {
            "tags": []
          }
        },
        {
          "output_type": "stream",
          "text": [
            "dog\n",
            "Correct\n",
            "+++++++++++++++++++++++++++++\n"
          ],
          "name": "stdout"
        }
      ]
    },
    {
      "cell_type": "markdown",
      "metadata": {
        "id": "Q9JrDCM4m5PG"
      },
      "source": [
        "# StreamLit"
      ]
    },
    {
      "cell_type": "code",
      "metadata": {
        "id": "Isgf3kREaZS4"
      },
      "source": [
        "!pip install -U ipykernel"
      ],
      "execution_count": null,
      "outputs": []
    },
    {
      "cell_type": "code",
      "metadata": {
        "id": "BNsRDn5yacVK"
      },
      "source": [
        "!pip install -q streamlit"
      ],
      "execution_count": null,
      "outputs": []
    },
    {
      "cell_type": "code",
      "metadata": {
        "id": "BHTwxAxFadDu"
      },
      "source": [
        "!pip install pyngrok"
      ],
      "execution_count": null,
      "outputs": []
    },
    {
      "cell_type": "markdown",
      "metadata": {
        "id": "5XP4sMB4hhZO"
      },
      "source": [
        "SHOW CODE"
      ]
    },
    {
      "cell_type": "code",
      "metadata": {
        "id": "JzMSGaqVQ5pe"
      },
      "source": [
        "%%writefile Webapp.py\n",
        "\n",
        "import tensorflow as tf\n",
        "import tensorflow_hub as hub\n",
        "import numpy as np\n",
        "import streamlit as st\n",
        "from PIL import Image\n",
        "import json\n",
        "import requests\n",
        "from io import BytesIO\n",
        "\n",
        "st.set_option('deprecation.showfileUploaderEncoding', False)\n",
        "st.title(\"Image Classifier Using CIFAR10\")\n",
        "st.text(\"Providing URL of an image for image classification\")\n",
        "\n",
        "@st.cache(allow_output_mutation=True)\n",
        "def load_model():\n",
        "  model=tf.keras.models.load_model('model_TermProject_Final.h5')\n",
        "  return model\n",
        "\n",
        "with st.spinner('Loading Model Into Memory....'):\n",
        "  model=load_model()\n",
        "\n",
        "cifar_classes = ['aeroplane', 'automobile', 'bird', 'cat', 'deer', 'dog', 'frog', 'horse', 'ship', 'truck']\n",
        "\n",
        "def scale(image):\n",
        "  image = tf.cast(image, tf.float32)\n",
        "  image/= 255.0\n",
        "\n",
        "  return tf.image.resize(image, [32,32])   #[244,244]\n",
        "\n",
        "def decode_img(image):\n",
        "  img = tf.image.decode_jpeg(image, channels=10)   #chanells=3\n",
        "  img= scale(img)\n",
        "  return np.expand_dims(img, axis=0)\n",
        "\n",
        "path=st.text_input('Enter Image URL to Classify which class does it belong to...','https://www.rd.com/wp-content/uploads/2020/01/GettyImages-1131335393-e1580493890249-scaled.jpg')\n",
        "if path is not None:\n",
        "  content=requests.get(path).content\n",
        "\n",
        "  st.write(\"Predicted Class: \")\n",
        "  with st.spinner('classifying.....'):\n",
        "    lable = np.argmax(model.predict(decode_img(content)), axis=1)\n",
        "    st.write(cifar_classes[label[0]])\n",
        "  st.write(\"\")\n",
        "  image = Image.open(BytesIO(content))\n",
        "  st.image(image, caption='Classifying Image', use_column_width=True)\n",
        "\n",
        "\n",
        "\n",
        "  #import os\n",
        "\n",
        "# def file_selector(folder_path='.'):\n",
        "#     filenames = os.listdir(folder_path)\n",
        "#     selected_filename = st.selectbox('Select a file', filenames)\n",
        "#     return os.path.join(folder_path, selected_filename)\n",
        "\n",
        "# filename = file_selector()\n",
        "# st.write('You selected `%s`' % filename)\n"
      ],
      "execution_count": null,
      "outputs": []
    },
    {
      "cell_type": "code",
      "metadata": {
        "id": "dHb21A5LloYZ"
      },
      "source": [
        "!ls"
      ],
      "execution_count": null,
      "outputs": []
    },
    {
      "cell_type": "code",
      "metadata": {
        "id": "tZfAGsKtlr7_"
      },
      "source": [
        "!ngrok authtoken 1lFlzlRQs2iVnjK03RIjdhvz5ZF_5xaP65b24x3D6bFz6XmzE"
      ],
      "execution_count": null,
      "outputs": []
    },
    {
      "cell_type": "code",
      "metadata": {
        "id": "-vw4ELlpmUz2"
      },
      "source": [
        "!ngrok"
      ],
      "execution_count": null,
      "outputs": []
    },
    {
      "cell_type": "code",
      "metadata": {
        "id": "RjxrIuZ4moEt"
      },
      "source": [
        "from pyngrok import ngrok"
      ],
      "execution_count": null,
      "outputs": []
    },
    {
      "cell_type": "code",
      "metadata": {
        "id": "nMFlZtdIgr3-"
      },
      "source": [
        "#!nohub streamlit run Webapp.py\n",
        "\n",
        "!streamlit run Webapp.py&>/dev/null&"
      ],
      "execution_count": null,
      "outputs": []
    },
    {
      "cell_type": "code",
      "metadata": {
        "id": "FNPbhgmIm1vO"
      },
      "source": [
        "!pgrep streamlit"
      ],
      "execution_count": null,
      "outputs": []
    },
    {
      "cell_type": "code",
      "metadata": {
        "id": "29QahEBomskB"
      },
      "source": [
        "publ_url = ngrok.connect(addr='8501')"
      ],
      "execution_count": null,
      "outputs": []
    },
    {
      "cell_type": "code",
      "metadata": {
        "id": "2AA32cJtowou"
      },
      "source": [
        "publ_url"
      ],
      "execution_count": null,
      "outputs": []
    },
    {
      "cell_type": "code",
      "metadata": {
        "id": "wYbv7LMvj5oG"
      },
      "source": [
        "#ngrok.kill()"
      ],
      "execution_count": null,
      "outputs": []
    }
  ]
}