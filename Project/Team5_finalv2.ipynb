{
  "nbformat": 4,
  "nbformat_minor": 0,
  "metadata": {
    "colab": {
      "name": "Team5_milestone1.ipynb",
      "provenance": [],
      "collapsed_sections": [],
      "include_colab_link": true
    },
    "kernelspec": {
      "name": "python37664bitbasecondac4937656be8544b7a6d6182776239ee9",
      "display_name": "Python 3.7.6 64-bit ('base': conda)"
    },
    "accelerator": "GPU"
  },
  "cells": [
    {
      "cell_type": "markdown",
      "metadata": {
        "id": "view-in-github",
        "colab_type": "text"
      },
      "source": [
        "<a href=\"https://colab.research.google.com/github/the-redlord/comp455/blob/master/Project/Team5_finalv2.ipynb\" target=\"_parent\"><img src=\"https://colab.research.google.com/assets/colab-badge.svg\" alt=\"Open In Colab\"/></a>"
      ]
    },
    {
      "cell_type": "code",
      "metadata": {
        "id": "dPnJbqMCZKNE",
        "colab": {
          "base_uri": "https://localhost:8080/"
        },
        "outputId": "3110d3a9-f7b4-47d1-d812-41e66565b0ac"
      },
      "source": [
        "#Step 1: import\n",
        "\n",
        "import tensorflow as tf\n",
        "from tensorflow import keras\n",
        "\n",
        "import os\n",
        "\n",
        "from keras import regularizers\n",
        "from keras.models import Sequential\n",
        "from keras.layers import Dense, Dropout, Flatten\n",
        "from keras.optimizers import RMSprop\n",
        "from keras.constraints import maxnorm\n",
        "from keras.layers import  Conv2D, MaxPooling2D, BatchNormalization, Input\n",
        "from keras.preprocessing.image import ImageDataGenerator\n",
        "\n",
        "import numpy as np\n",
        "import matplotlib.pyplot as plt\n",
        "%matplotlib inline\n",
        "\n",
        "if not os.path.isdir('models'):\n",
        "    os.mkdir('models')\n",
        "    \n",
        "print('TensorFlow version:', tf.__version__)\n",
        "print('Is using GPU?', tf.test.is_gpu_available())\n",
        "tf.config.list_physical_devices('GPU')"
      ],
      "execution_count": 1,
      "outputs": [
        {
          "output_type": "stream",
          "text": [
            "TensorFlow version: 2.3.0\n",
            "WARNING:tensorflow:From <ipython-input-1-02ee01bc34d6>:24: is_gpu_available (from tensorflow.python.framework.test_util) is deprecated and will be removed in a future version.\n",
            "Instructions for updating:\n",
            "Use `tf.config.list_physical_devices('GPU')` instead.\n",
            "Is using GPU? True\n"
          ],
          "name": "stdout"
        },
        {
          "output_type": "execute_result",
          "data": {
            "text/plain": [
              "[PhysicalDevice(name='/physical_device:GPU:0', device_type='GPU')]"
            ]
          },
          "metadata": {
            "tags": []
          },
          "execution_count": 1
        }
      ]
    },
    {
      "cell_type": "code",
      "metadata": {
        "id": "sqLed2WntSDN",
        "outputId": "9e705f48-1c00-4158-d105-baa3eb314de3",
        "colab": {
          "base_uri": "https://localhost:8080/"
        }
      },
      "source": [
        "#Load the dataset\n",
        "(X_Train, Y_Train),(X_Test, Y_Test) = tf.keras.datasets.cifar10.load_data()"
      ],
      "execution_count": 2,
      "outputs": [
        {
          "output_type": "stream",
          "text": [
            "Downloading data from https://www.cs.toronto.edu/~kriz/cifar-10-python.tar.gz\n",
            "170500096/170498071 [==============================] - 13s 0us/step\n"
          ],
          "name": "stdout"
        }
      ]
    },
    {
      "cell_type": "code",
      "metadata": {
        "id": "AwZUGqJUtSHP",
        "colab": {
          "base_uri": "https://localhost:8080/",
          "height": 209
        },
        "outputId": "87f2d2f0-c3a7-4f02-81d2-2c24b6ff2dbe"
      },
      "source": [
        "import matplotlib.pyplot as plt\n",
        "plt.figure(figsize=(20,10))\n",
        "plt.subplot(330+1+1)\n",
        "plt.imshow(X_Train[1])\n",
        "plt.show()\n",
        "#print(Y_Train)"
      ],
      "execution_count": 3,
      "outputs": [
        {
          "output_type": "display_data",
          "data": {
            "image/png": "[encoded data removed]",
            "text/plain": [
              "<Figure size 1440x720 with 1 Axes>"
            ]
          },
          "metadata": {
            "tags": [],
            "needs_background": "light"
          }
        }
      ]
    },
    {
      "cell_type": "code",
      "metadata": {
        "id": "MbZY4KqHtSLI"
      },
      "source": [
        "#Step 2: Data pre-processiing \n",
        "\n",
        "\n",
        "#Normalize the dataset\n",
        "X_Train = X_Train.astype('float32')\n",
        "X_Test = X_Test.astype('float32')\n",
        "\n",
        "# X_Train = X_Train/255.0\n",
        "# X_Test= X_Test/255.0\n",
        "\n",
        "#z-score\n",
        "mean = np.mean(X_Train,axis=(0,1,2,3))\n",
        "std = np.std(X_Train,axis=(0,1,2,3))\n",
        "X_Train = (X_Train-mean)/(std+1e-7)\n",
        "X_Test = (X_Test-mean)/(std+1e-7)"
      ],
      "execution_count": 4,
      "outputs": []
    },
    {
      "cell_type": "code",
      "metadata": {
        "id": "KwM7fpxpQF_b",
        "colab": {
          "base_uri": "https://localhost:8080/"
        },
        "outputId": "618b1390-c461-4d98-eb9c-012bedfe224c"
      },
      "source": [
        "X_Train.shape"
      ],
      "execution_count": 5,
      "outputs": [
        {
          "output_type": "execute_result",
          "data": {
            "text/plain": [
              "(50000, 32, 32, 3)"
            ]
          },
          "metadata": {
            "tags": []
          },
          "execution_count": 5
        }
      ]
    },
    {
      "cell_type": "code",
      "metadata": {
        "id": "ogw5rcVBzXC7"
      },
      "source": [
        "#Now one hot encoding on Y_Test\n",
        "\n",
        "#convert vectors into Binary class matrices\n",
        "\n",
        "Y_Train=keras.utils.to_categorical(Y_Train)\n",
        "Y_Test=keras.utils.to_categorical(Y_Test)"
      ],
      "execution_count": 6,
      "outputs": []
    },
    {
      "cell_type": "code",
      "metadata": {
        "id": "2TPQkA6GNnZl"
      },
      "source": [
        "cifar_classes = ['aeroplane', 'automobile', 'bird', 'cat', 'deer', 'dog', 'frog', 'horse', 'ship', 'truck']"
      ],
      "execution_count": 7,
      "outputs": []
    },
    {
      "cell_type": "code",
      "metadata": {
        "id": "lu6ucBoANhnR",
        "colab": {
          "base_uri": "https://localhost:8080/",
          "height": 459
        },
        "outputId": "7d187ff1-7007-4d80-96eb-4f2ec9ceda44"
      },
      "source": [
        "def show_random_examples(x,y,p):\n",
        "  indices = np.random.choice(range(x.shape[0]),10,replace=False)\n",
        "  x = x[indices]\n",
        "  y = y[indices]\n",
        "  p = p[indices]\n",
        "\n",
        "  plt.figure(figsize=(10,5))\n",
        "  for i in range(10):\n",
        "    plt.subplot(2,5,1+i)\n",
        "    plt.imshow(x[i])\n",
        "    plt.xticks([])\n",
        "    plt.yticks([])\n",
        "\n",
        "    # show correct prediction in green and wrong in red\n",
        "    col ='green' if np.argmax(y[i]) == np.argmax(p[i]) else 'red'\n",
        "    plt.xlabel(cifar_classes[np.argmax(p[i])],color=col)\n",
        "  plt.show()\n",
        "\n",
        "show_random_examples(X_Train,Y_Train,Y_Train)"
      ],
      "execution_count": 8,
      "outputs": [
        {
          "output_type": "stream",
          "text": [
            "Clipping input data to the valid range for imshow with RGB data ([0..1] for floats or [0..255] for integers).\n",
            "Clipping input data to the valid range for imshow with RGB data ([0..1] for floats or [0..255] for integers).\n",
            "Clipping input data to the valid range for imshow with RGB data ([0..1] for floats or [0..255] for integers).\n",
            "Clipping input data to the valid range for imshow with RGB data ([0..1] for floats or [0..255] for integers).\n",
            "Clipping input data to the valid range for imshow with RGB data ([0..1] for floats or [0..255] for integers).\n",
            "Clipping input data to the valid range for imshow with RGB data ([0..1] for floats or [0..255] for integers).\n",
            "Clipping input data to the valid range for imshow with RGB data ([0..1] for floats or [0..255] for integers).\n",
            "Clipping input data to the valid range for imshow with RGB data ([0..1] for floats or [0..255] for integers).\n",
            "Clipping input data to the valid range for imshow with RGB data ([0..1] for floats or [0..255] for integers).\n",
            "Clipping input data to the valid range for imshow with RGB data ([0..1] for floats or [0..255] for integers).\n"
          ],
          "name": "stderr"
        },
        {
          "output_type": "display_data",
          "data": {
            "image/png": "[encoded data removed]",
            "text/plain": [
              "<Figure size 720x360 with 10 Axes>"
            ]
          },
          "metadata": {
            "tags": []
          }
        }
      ]
    },
    {
      "cell_type": "code",
      "metadata": {
        "id": "u0YS8iFXzXKr"
      },
      "source": [
        "#Check the shape of Y_Train\n",
        "num_classes = Y_Train.shape[1]"
      ],
      "execution_count": 9,
      "outputs": []
    },
    {
      "cell_type": "code",
      "metadata": {
        "id": "axfP8D-8zXT8"
      },
      "source": [
        "#Step 3: Model Creation\n",
        "\n",
        "weight_decay = 1e-4\n",
        "\n",
        "model = Sequential()\n",
        "\n",
        "model.add(Input(shape=(32,32,3)))\n",
        "\n",
        "model.add(Conv2D(32,3,activation='elu',padding='same',kernel_regularizer=regularizers.l2(weight_decay)))\n",
        "model.add(BatchNormalization())\n",
        "model.add(Conv2D(32,3,activation='elu',padding='same',kernel_regularizer=regularizers.l2(weight_decay)))\n",
        "model.add(MaxPooling2D(pool_size=2))\n",
        "model.add(Dropout(0.2))\n",
        "\n",
        "model.add(Conv2D(64,3,activation='elu',padding='same',kernel_regularizer=regularizers.l2(weight_decay)))\n",
        "model.add(BatchNormalization())\n",
        "model.add(Conv2D(64,3,activation='elu',padding='same',kernel_regularizer=regularizers.l2(weight_decay)))\n",
        "model.add(MaxPooling2D(pool_size=2))\n",
        "model.add(Dropout(0.3))\n",
        "\n",
        "model.add(Conv2D(128,3,activation='elu',padding='same',kernel_regularizer=regularizers.l2(weight_decay)))\n",
        "model.add(BatchNormalization())\n",
        "model.add(Conv2D(128,3,activation='elu',padding='same',kernel_regularizer=regularizers.l2(weight_decay)))\n",
        "model.add(MaxPooling2D(pool_size=2))\n",
        "model.add(Dropout(0.4))\n",
        "\n",
        "\n",
        "model.add(Flatten())\n",
        "\n",
        "model.add(Dense(128, activation='elu'))\n",
        "model.add(Dropout(0.2))\n",
        "\n",
        "model.add(Dense(10, activation= 'softmax'))\n",
        "\n",
        "#compile the model\n",
        "\n",
        "opt_rms = RMSprop(lr=0.001,decay=1e-6)\n",
        "\n",
        "datagen = ImageDataGenerator(\n",
        "    featurewise_center=False,\n",
        "    samplewise_center=False,\n",
        "    featurewise_std_normalization=False,\n",
        "    samplewise_std_normalization=False,\n",
        "    zca_whitening=False,\n",
        "    rotation_range=15,\n",
        "    width_shift_range=0.1,\n",
        "    height_shift_range=0.1,\n",
        "    horizontal_flip=True,\n",
        "    vertical_flip=False\n",
        "    )\n",
        "datagen.fit(X_Train)\n",
        "\n",
        "model.compile(loss='categorical_crossentropy', optimizer=opt_rms, metrics = ['accuracy'])"
      ],
      "execution_count": 10,
      "outputs": []
    },
    {
      "cell_type": "code",
      "metadata": {
        "id": "vEk2srvJzXOP",
        "colab": {
          "base_uri": "https://localhost:8080/"
        },
        "outputId": "474f2af7-70b6-4128-9cfc-6c2387a4f6f0"
      },
      "source": [
        "model.summary()"
      ],
      "execution_count": 11,
      "outputs": [
        {
          "output_type": "stream",
          "text": [
            "Model: \"sequential\"\n",
            "_________________________________________________________________\n",
            "Layer (type)                 Output Shape              Param #   \n",
            "=================================================================\n",
            "conv2d (Conv2D)              (None, 32, 32, 32)        896       \n",
            "_________________________________________________________________\n",
            "batch_normalization (BatchNo (None, 32, 32, 32)        128       \n",
            "_________________________________________________________________\n",
            "conv2d_1 (Conv2D)            (None, 32, 32, 32)        9248      \n",
            "_________________________________________________________________\n",
            "max_pooling2d (MaxPooling2D) (None, 16, 16, 32)        0         \n",
            "_________________________________________________________________\n",
            "dropout (Dropout)            (None, 16, 16, 32)        0         \n",
            "_________________________________________________________________\n",
            "conv2d_2 (Conv2D)            (None, 16, 16, 64)        18496     \n",
            "_________________________________________________________________\n",
            "batch_normalization_1 (Batch (None, 16, 16, 64)        256       \n",
            "_________________________________________________________________\n",
            "conv2d_3 (Conv2D)            (None, 16, 16, 64)        36928     \n",
            "_________________________________________________________________\n",
            "max_pooling2d_1 (MaxPooling2 (None, 8, 8, 64)          0         \n",
            "_________________________________________________________________\n",
            "dropout_1 (Dropout)          (None, 8, 8, 64)          0         \n",
            "_________________________________________________________________\n",
            "conv2d_4 (Conv2D)            (None, 8, 8, 128)         73856     \n",
            "_________________________________________________________________\n",
            "batch_normalization_2 (Batch (None, 8, 8, 128)         512       \n",
            "_________________________________________________________________\n",
            "conv2d_5 (Conv2D)            (None, 8, 8, 128)         147584    \n",
            "_________________________________________________________________\n",
            "max_pooling2d_2 (MaxPooling2 (None, 4, 4, 128)         0         \n",
            "_________________________________________________________________\n",
            "dropout_2 (Dropout)          (None, 4, 4, 128)         0         \n",
            "_________________________________________________________________\n",
            "flatten (Flatten)            (None, 2048)              0         \n",
            "_________________________________________________________________\n",
            "dense (Dense)                (None, 128)               262272    \n",
            "_________________________________________________________________\n",
            "dropout_3 (Dropout)          (None, 128)               0         \n",
            "_________________________________________________________________\n",
            "dense_1 (Dense)              (None, 10)                1290      \n",
            "=================================================================\n",
            "Total params: 551,466\n",
            "Trainable params: 551,018\n",
            "Non-trainable params: 448\n",
            "_________________________________________________________________\n"
          ],
          "name": "stdout"
        }
      ]
    },
    {
      "cell_type": "code",
      "metadata": {
        "id": "Y-eSnbTwzW-N",
        "colab": {
          "base_uri": "https://localhost:8080/"
        },
        "outputId": "1e9c23b2-b295-4c26-8c80-8fc3bdeaa2b9"
      },
      "source": [
        "history = model.fit(X_Train, Y_Train, validation_data=(X_Test,Y_Test), epochs=50, batch_size=128,callbacks=[\n",
        "                tf.keras.callbacks.ModelCheckpoint('models/model_{val_accuracy:.3f}.h5',\n",
        "                                                   save_best_only=True,save_weights_only=False,\n",
        "                                                   monitor='val_accuracy')\n",
        "              ])"
      ],
      "execution_count": 12,
      "outputs": [
        {
          "output_type": "stream",
          "text": [
            "Epoch 1/50\n",
            "391/391 [==============================] - 9s 23ms/step - loss: 1.7771 - accuracy: 0.4191 - val_loss: 1.2693 - val_accuracy: 0.5832\n",
            "Epoch 2/50\n",
            "391/391 [==============================] - 8s 21ms/step - loss: 1.1409 - accuracy: 0.6194 - val_loss: 0.9698 - val_accuracy: 0.6885\n",
            "Epoch 3/50\n",
            "391/391 [==============================] - 8s 21ms/step - loss: 0.9324 - accuracy: 0.6919 - val_loss: 0.8893 - val_accuracy: 0.7061\n",
            "Epoch 4/50\n",
            "391/391 [==============================] - 8s 21ms/step - loss: 0.8212 - accuracy: 0.7354 - val_loss: 0.7776 - val_accuracy: 0.7586\n",
            "Epoch 5/50\n",
            "391/391 [==============================] - 8s 21ms/step - loss: 0.7438 - accuracy: 0.7642 - val_loss: 0.7636 - val_accuracy: 0.7647\n",
            "Epoch 6/50\n",
            "391/391 [==============================] - 8s 21ms/step - loss: 0.6910 - accuracy: 0.7844 - val_loss: 0.7021 - val_accuracy: 0.7837\n",
            "Epoch 7/50\n",
            "391/391 [==============================] - 8s 21ms/step - loss: 0.6512 - accuracy: 0.7996 - val_loss: 0.7380 - val_accuracy: 0.7724\n",
            "Epoch 8/50\n",
            "391/391 [==============================] - 8s 22ms/step - loss: 0.6188 - accuracy: 0.8140 - val_loss: 0.6798 - val_accuracy: 0.7993\n",
            "Epoch 9/50\n",
            "391/391 [==============================] - 8s 21ms/step - loss: 0.5942 - accuracy: 0.8222 - val_loss: 0.6384 - val_accuracy: 0.8189\n",
            "Epoch 10/50\n",
            "391/391 [==============================] - 8s 21ms/step - loss: 0.5731 - accuracy: 0.8336 - val_loss: 0.6842 - val_accuracy: 0.8127\n",
            "Epoch 11/50\n",
            "391/391 [==============================] - 8s 21ms/step - loss: 0.5530 - accuracy: 0.8412 - val_loss: 0.7116 - val_accuracy: 0.8152\n",
            "Epoch 12/50\n",
            "391/391 [==============================] - 8s 21ms/step - loss: 0.5334 - accuracy: 0.8491 - val_loss: 0.6753 - val_accuracy: 0.8084\n",
            "Epoch 13/50\n",
            "391/391 [==============================] - 8s 22ms/step - loss: 0.5188 - accuracy: 0.8563 - val_loss: 0.6562 - val_accuracy: 0.8203\n",
            "Epoch 14/50\n",
            "391/391 [==============================] - 8s 21ms/step - loss: 0.5090 - accuracy: 0.8607 - val_loss: 0.6512 - val_accuracy: 0.8330\n",
            "Epoch 15/50\n",
            "391/391 [==============================] - 8s 21ms/step - loss: 0.5029 - accuracy: 0.8647 - val_loss: 0.6852 - val_accuracy: 0.8282\n",
            "Epoch 16/50\n",
            "391/391 [==============================] - 8s 21ms/step - loss: 0.4969 - accuracy: 0.8669 - val_loss: 0.6429 - val_accuracy: 0.8410\n",
            "Epoch 17/50\n",
            "391/391 [==============================] - 8s 21ms/step - loss: 0.4839 - accuracy: 0.8734 - val_loss: 0.6514 - val_accuracy: 0.8391\n",
            "Epoch 18/50\n",
            "391/391 [==============================] - 8s 21ms/step - loss: 0.4742 - accuracy: 0.8763 - val_loss: 0.6356 - val_accuracy: 0.8425\n",
            "Epoch 19/50\n",
            "391/391 [==============================] - 8s 21ms/step - loss: 0.4721 - accuracy: 0.8786 - val_loss: 0.6846 - val_accuracy: 0.8354\n",
            "Epoch 20/50\n",
            "391/391 [==============================] - 8s 21ms/step - loss: 0.4673 - accuracy: 0.8811 - val_loss: 0.7350 - val_accuracy: 0.8193\n",
            "Epoch 21/50\n",
            "391/391 [==============================] - 8s 21ms/step - loss: 0.4601 - accuracy: 0.8852 - val_loss: 0.7028 - val_accuracy: 0.8297\n",
            "Epoch 22/50\n",
            "391/391 [==============================] - 8s 21ms/step - loss: 0.4588 - accuracy: 0.8864 - val_loss: 0.6798 - val_accuracy: 0.8363\n",
            "Epoch 23/50\n",
            "391/391 [==============================] - 8s 21ms/step - loss: 0.4524 - accuracy: 0.8892 - val_loss: 0.6322 - val_accuracy: 0.8435\n",
            "Epoch 24/50\n",
            "391/391 [==============================] - 8s 21ms/step - loss: 0.4465 - accuracy: 0.8921 - val_loss: 0.6815 - val_accuracy: 0.8377\n",
            "Epoch 25/50\n",
            "391/391 [==============================] - 8s 21ms/step - loss: 0.4430 - accuracy: 0.8938 - val_loss: 0.6478 - val_accuracy: 0.8443\n",
            "Epoch 26/50\n",
            "391/391 [==============================] - 8s 21ms/step - loss: 0.4408 - accuracy: 0.8954 - val_loss: 0.6974 - val_accuracy: 0.8367\n",
            "Epoch 27/50\n",
            "391/391 [==============================] - 8s 21ms/step - loss: 0.4379 - accuracy: 0.8983 - val_loss: 0.6466 - val_accuracy: 0.8419\n",
            "Epoch 28/50\n",
            "391/391 [==============================] - 8s 22ms/step - loss: 0.4271 - accuracy: 0.9017 - val_loss: 0.6375 - val_accuracy: 0.8465\n",
            "Epoch 29/50\n",
            "391/391 [==============================] - 8s 21ms/step - loss: 0.4336 - accuracy: 0.9012 - val_loss: 0.6711 - val_accuracy: 0.8490\n",
            "Epoch 30/50\n",
            "391/391 [==============================] - 8s 21ms/step - loss: 0.4299 - accuracy: 0.9034 - val_loss: 0.6593 - val_accuracy: 0.8516\n",
            "Epoch 31/50\n",
            "391/391 [==============================] - 8s 21ms/step - loss: 0.4288 - accuracy: 0.9041 - val_loss: 0.6542 - val_accuracy: 0.8461\n",
            "Epoch 32/50\n",
            "391/391 [==============================] - 8s 21ms/step - loss: 0.4267 - accuracy: 0.9041 - val_loss: 0.6883 - val_accuracy: 0.8417\n",
            "Epoch 33/50\n",
            "391/391 [==============================] - 8s 21ms/step - loss: 0.4246 - accuracy: 0.9063 - val_loss: 0.7001 - val_accuracy: 0.8501\n",
            "Epoch 34/50\n",
            "391/391 [==============================] - 8s 21ms/step - loss: 0.4164 - accuracy: 0.9082 - val_loss: 0.6760 - val_accuracy: 0.8470\n",
            "Epoch 35/50\n",
            "391/391 [==============================] - 8s 21ms/step - loss: 0.4192 - accuracy: 0.9087 - val_loss: 0.6554 - val_accuracy: 0.8473\n",
            "Epoch 36/50\n",
            "391/391 [==============================] - 8s 21ms/step - loss: 0.4191 - accuracy: 0.9087 - val_loss: 0.7115 - val_accuracy: 0.8532\n",
            "Epoch 37/50\n",
            "391/391 [==============================] - 8s 21ms/step - loss: 0.4154 - accuracy: 0.9108 - val_loss: 0.6779 - val_accuracy: 0.8540\n",
            "Epoch 38/50\n",
            "391/391 [==============================] - 8s 21ms/step - loss: 0.4216 - accuracy: 0.9100 - val_loss: 0.7997 - val_accuracy: 0.8376\n",
            "Epoch 39/50\n",
            "391/391 [==============================] - 8s 21ms/step - loss: 0.4172 - accuracy: 0.9128 - val_loss: 0.6663 - val_accuracy: 0.8461\n",
            "Epoch 40/50\n",
            "391/391 [==============================] - 8s 21ms/step - loss: 0.4121 - accuracy: 0.9127 - val_loss: 0.7252 - val_accuracy: 0.8442\n",
            "Epoch 41/50\n",
            "391/391 [==============================] - 8s 21ms/step - loss: 0.4132 - accuracy: 0.9147 - val_loss: 0.7422 - val_accuracy: 0.8510\n",
            "Epoch 42/50\n",
            "391/391 [==============================] - 8s 21ms/step - loss: 0.4111 - accuracy: 0.9141 - val_loss: 0.7274 - val_accuracy: 0.8502\n",
            "Epoch 43/50\n",
            "391/391 [==============================] - 8s 21ms/step - loss: 0.4062 - accuracy: 0.9162 - val_loss: 0.6662 - val_accuracy: 0.8554\n",
            "Epoch 44/50\n",
            "391/391 [==============================] - 8s 21ms/step - loss: 0.4052 - accuracy: 0.9173 - val_loss: 0.6893 - val_accuracy: 0.8588\n",
            "Epoch 45/50\n",
            "391/391 [==============================] - 8s 21ms/step - loss: 0.4077 - accuracy: 0.9169 - val_loss: 0.6692 - val_accuracy: 0.8566\n",
            "Epoch 46/50\n",
            "391/391 [==============================] - 8s 21ms/step - loss: 0.4037 - accuracy: 0.9189 - val_loss: 0.7236 - val_accuracy: 0.8554\n",
            "Epoch 47/50\n",
            "391/391 [==============================] - 8s 21ms/step - loss: 0.4036 - accuracy: 0.9170 - val_loss: 0.6872 - val_accuracy: 0.8540\n",
            "Epoch 48/50\n",
            "391/391 [==============================] - 8s 21ms/step - loss: 0.4086 - accuracy: 0.9171 - val_loss: 0.7331 - val_accuracy: 0.8470\n",
            "Epoch 49/50\n",
            "391/391 [==============================] - 8s 21ms/step - loss: 0.4061 - accuracy: 0.9185 - val_loss: 0.7244 - val_accuracy: 0.8526\n",
            "Epoch 50/50\n",
            "391/391 [==============================] - 8s 21ms/step - loss: 0.4051 - accuracy: 0.9184 - val_loss: 0.7157 - val_accuracy: 0.8455\n"
          ],
          "name": "stdout"
        }
      ]
    },
    {
      "cell_type": "code",
      "metadata": {
        "id": "lkTVPE2A6P9S"
      },
      "source": [
        "model.save('model_TermProject_Final.h5')"
      ],
      "execution_count": 13,
      "outputs": []
    },
    {
      "cell_type": "code",
      "metadata": {
        "id": "I5QxELuH_-I3",
        "colab": {
          "base_uri": "https://localhost:8080/",
          "height": 295
        },
        "outputId": "e6234dc0-eb6e-46b2-b451-0978e5df3af3"
      },
      "source": [
        "# plot accuracy\n",
        "plt.plot(history.history['accuracy'])\n",
        "plt.plot(history.history['val_accuracy'])\n",
        "plt.title('model accuracy')\n",
        "plt.ylabel('accuracy')\n",
        "plt.xlabel('epoch')\n",
        "plt.legend(['train', 'validation'], loc='upper left')\n",
        "plt.show()"
      ],
      "execution_count": 14,
      "outputs": [
        {
          "output_type": "display_data",
          "data": {
            "image/png": "[encoded data removed]",
            "text/plain": [
              "<Figure size 432x288 with 1 Axes>"
            ]
          },
          "metadata": {
            "tags": [],
            "needs_background": "light"
          }
        }
      ]
    },
    {
      "cell_type": "code",
      "metadata": {
        "id": "KqdP4yQ2_-I-",
        "colab": {
          "base_uri": "https://localhost:8080/",
          "height": 295
        },
        "outputId": "49288456-8f63-4d0c-e26e-5126d88063f0"
      },
      "source": [
        "# plot loss\n",
        "plt.plot(history.history['loss'])\n",
        "plt.plot(history.history['val_loss'])\n",
        "plt.title('model loss')\n",
        "plt.ylabel('loss')\n",
        "plt.xlabel('epoch')\n",
        "plt.legend(['train', 'validation'], loc='upper left')\n",
        "plt.show()"
      ],
      "execution_count": 15,
      "outputs": [
        {
          "output_type": "display_data",
          "data": {
            "image/png": "[encoded data removed]",
            "text/plain": [
              "<Figure size 432x288 with 1 Axes>"
            ]
          },
          "metadata": {
            "tags": [],
            "needs_background": "light"
          }
        }
      ]
    },
    {
      "cell_type": "code",
      "metadata": {
        "id": "K-ZIAAqj8QZv",
        "colab": {
          "base_uri": "https://localhost:8080/"
        },
        "outputId": "6e67683f-3acf-470d-8c20-562bbcff1fe5"
      },
      "source": [
        "#Step 4: Evaluation\n",
        "loss, accuracy_= model.evaluate(X_Test, Y_Test)\n",
        "print(\"Accuracy of this model is: \", accuracy_*100)"
      ],
      "execution_count": 16,
      "outputs": [
        {
          "output_type": "stream",
          "text": [
            "313/313 [==============================] - 1s 4ms/step - loss: 0.7157 - accuracy: 0.8455\n",
            "Accuracy of this model is:  84.54999923706055\n"
          ],
          "name": "stdout"
        }
      ]
    },
    {
      "cell_type": "code",
      "metadata": {
        "id": "JiSySPHP8QRP"
      },
      "source": [
        "preds = model.predict(X_Test)"
      ],
      "execution_count": 17,
      "outputs": []
    },
    {
      "cell_type": "code",
      "metadata": {
        "id": "cv-RFv4RRDkj",
        "colab": {
          "base_uri": "https://localhost:8080/"
        },
        "outputId": "f9745563-3b16-49f7-d98f-31811dbed0af"
      },
      "source": [
        "Y_Train.shape"
      ],
      "execution_count": 18,
      "outputs": [
        {
          "output_type": "execute_result",
          "data": {
            "text/plain": [
              "(50000, 10)"
            ]
          },
          "metadata": {
            "tags": []
          },
          "execution_count": 18
        }
      ]
    },
    {
      "cell_type": "code",
      "metadata": {
        "id": "P8ewsF6XQ9pA",
        "colab": {
          "base_uri": "https://localhost:8080/"
        },
        "outputId": "4bfd4a9f-cd95-4696-f78c-31f50384e94e"
      },
      "source": [
        "preds.shape"
      ],
      "execution_count": 19,
      "outputs": [
        {
          "output_type": "execute_result",
          "data": {
            "text/plain": [
              "(10000, 10)"
            ]
          },
          "metadata": {
            "tags": []
          },
          "execution_count": 19
        }
      ]
    },
    {
      "cell_type": "code",
      "metadata": {
        "id": "o113wxzt8Qc3",
        "colab": {
          "base_uri": "https://localhost:8080/",
          "height": 459
        },
        "outputId": "878aab8d-b84f-429e-8776-74edbc98a2b5"
      },
      "source": [
        "show_random_examples(X_Test,Y_Test,preds)"
      ],
      "execution_count": 20,
      "outputs": [
        {
          "output_type": "stream",
          "text": [
            "Clipping input data to the valid range for imshow with RGB data ([0..1] for floats or [0..255] for integers).\n",
            "Clipping input data to the valid range for imshow with RGB data ([0..1] for floats or [0..255] for integers).\n",
            "Clipping input data to the valid range for imshow with RGB data ([0..1] for floats or [0..255] for integers).\n",
            "Clipping input data to the valid range for imshow with RGB data ([0..1] for floats or [0..255] for integers).\n",
            "Clipping input data to the valid range for imshow with RGB data ([0..1] for floats or [0..255] for integers).\n",
            "Clipping input data to the valid range for imshow with RGB data ([0..1] for floats or [0..255] for integers).\n",
            "Clipping input data to the valid range for imshow with RGB data ([0..1] for floats or [0..255] for integers).\n",
            "Clipping input data to the valid range for imshow with RGB data ([0..1] for floats or [0..255] for integers).\n",
            "Clipping input data to the valid range for imshow with RGB data ([0..1] for floats or [0..255] for integers).\n",
            "Clipping input data to the valid range for imshow with RGB data ([0..1] for floats or [0..255] for integers).\n"
          ],
          "name": "stderr"
        },
        {
          "output_type": "display_data",
          "data": {
            "image/png": "[encoded data removed]",
            "text/plain": [
              "<Figure size 720x360 with 10 Axes>"
            ]
          },
          "metadata": {
            "tags": []
          }
        }
      ]
    },
    {
      "cell_type": "code",
      "metadata": {
        "id": "JzMSGaqVQ5pe",
        "outputId": "94fdb6ef-6023-421f-cfc1-cbbadbac9e14",
        "colab": {
          "base_uri": "https://localhost:8080/",
          "height": 367
        }
      },
      "source": [
        "\n",
        "import streamlit as st\n",
        "import json\n",
        "import requests\n",
        "import numpy as np\n",
        "\n",
        "URI = 'http://127.0.0.1:5000'\n",
        "\n",
        "st.title('Neural Network Visualizer')\n",
        "st.sidebar.markdown('## Input Image')\n",
        "\n",
        "if st.button('Get Random Prediction'):\n",
        "  response = requests.post(URI, data={})\n",
        "  response = json.loads(response.text)\n",
        "  preds = response.get('prediction')\n",
        "  image = response.get('image')\n",
        "  image = np.reshape(image, (28,28))\n",
        "  st.sidebar.image(image, width=150)\n",
        "\n",
        "  for layer, p in enumerate(preds):\n",
        "    numbers = np.squeeze(np.array(p))\n",
        "\n",
        "    plt.figure(figsize=(32,4))\n",
        "\n",
        "    if layer == 2:\n",
        "      row = 1\n",
        "      col = 10\n",
        "    else:\n",
        "      row = 2\n",
        "      col = 16\n",
        "\n",
        "    for i, number in enumerate(numbers):\n",
        "      plt.subplot(row,col,i+1)\n",
        "      plt.imshow(number * np.ones((8,8,3)).astype('float32'))\n",
        "      plt.xticks([])\n",
        "      plt.yticks([])\n",
        "\n",
        "      if layer == 2:\n",
        "        plt.xlabel(str(i), fontsize=40)\n",
        "\n",
        "    plt.subplots_adjust(wspace=0.05, hspace=0.05)\n",
        "    plt.tight_layout()\n",
        "    st.text('Layer {}'.format(layer+1))\n",
        "    st.pyplot()"
      ],
      "execution_count": 21,
      "outputs": [
        {
          "output_type": "error",
          "ename": "ModuleNotFoundError",
          "evalue": "ignored",
          "traceback": [
            "\u001b[0;31m---------------------------------------------------------------------------\u001b[0m",
            "\u001b[0;31mModuleNotFoundError\u001b[0m                       Traceback (most recent call last)",
            "\u001b[0;32m<ipython-input-21-2916e5656b4c>\u001b[0m in \u001b[0;36m<module>\u001b[0;34m()\u001b[0m\n\u001b[1;32m      1\u001b[0m \u001b[0;34m\u001b[0m\u001b[0m\n\u001b[0;32m----> 2\u001b[0;31m \u001b[0;32mimport\u001b[0m \u001b[0mstreamlit\u001b[0m \u001b[0;32mas\u001b[0m \u001b[0mst\u001b[0m\u001b[0;34m\u001b[0m\u001b[0;34m\u001b[0m\u001b[0m\n\u001b[0m\u001b[1;32m      3\u001b[0m \u001b[0;32mimport\u001b[0m \u001b[0mjson\u001b[0m\u001b[0;34m\u001b[0m\u001b[0;34m\u001b[0m\u001b[0m\n\u001b[1;32m      4\u001b[0m \u001b[0;32mimport\u001b[0m \u001b[0mrequests\u001b[0m\u001b[0;34m\u001b[0m\u001b[0;34m\u001b[0m\u001b[0m\n\u001b[1;32m      5\u001b[0m \u001b[0;32mimport\u001b[0m \u001b[0mnumpy\u001b[0m \u001b[0;32mas\u001b[0m \u001b[0mnp\u001b[0m\u001b[0;34m\u001b[0m\u001b[0;34m\u001b[0m\u001b[0m\n",
            "\u001b[0;31mModuleNotFoundError\u001b[0m: No module named 'streamlit'",
            "",
            "\u001b[0;31m---------------------------------------------------------------------------\u001b[0;32m\nNOTE: If your import is failing due to a missing package, you can\nmanually install dependencies using either !pip or !apt.\n\nTo view examples of installing some common dependencies, click the\n\"Open Examples\" button below.\n\u001b[0;31m---------------------------------------------------------------------------\u001b[0m\n"
          ]
        }
      ]
    }
  ]
}