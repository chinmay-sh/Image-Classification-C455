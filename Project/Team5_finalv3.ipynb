{
  "nbformat": 4,
  "nbformat_minor": 0,
  "metadata": {
    "colab": {
      "name": "Team5_milestone1.ipynb",
      "provenance": [],
      "collapsed_sections": [],
      "include_colab_link": true
    },
    "kernelspec": {
      "name": "python37664bitbasecondac4937656be8544b7a6d6182776239ee9",
      "display_name": "Python 3.7.6 64-bit ('base': conda)"
    },
    "accelerator": "GPU"
  },
  "cells": [
    {
      "cell_type": "markdown",
      "metadata": {
        "id": "view-in-github",
        "colab_type": "text"
      },
      "source": [
        "<a href=\"https://colab.research.google.com/github/the-redlord/comp455/blob/master/Project/Team5_finalv3.ipynb\" target=\"_parent\"><img src=\"https://colab.research.google.com/assets/colab-badge.svg\" alt=\"Open In Colab\"/></a>"
      ]
    },
    {
      "cell_type": "code",
      "metadata": {
        "id": "dPnJbqMCZKNE",
        "colab": {
          "base_uri": "https://localhost:8080/"
        },
        "outputId": "8c91d2af-ad9e-4ed0-8c8e-80480d762299"
      },
      "source": [
        "#Step 1: import\n",
        "\n",
        "import tensorflow as tf\n",
        "from tensorflow import keras\n",
        "\n",
        "import os\n",
        "\n",
        "from keras import regularizers\n",
        "from keras.models import Sequential\n",
        "from keras.layers import Dense, Dropout, Flatten\n",
        "from keras.optimizers import RMSprop\n",
        "from keras.constraints import maxnorm\n",
        "from keras.layers import  Conv2D, MaxPooling2D, BatchNormalization, Input\n",
        "from keras.preprocessing.image import ImageDataGenerator\n",
        "\n",
        "import numpy as np\n",
        "import matplotlib.pyplot as plt\n",
        "%matplotlib inline\n",
        "\n",
        "if not os.path.isdir('models'):\n",
        "    os.mkdir('models')\n",
        "    \n",
        "print('TensorFlow version:', tf.__version__)\n",
        "print('Is using GPU?', tf.test.is_gpu_available())\n",
        "tf.config.list_physical_devices('GPU')"
      ],
      "execution_count": 1,
      "outputs": [
        {
          "output_type": "stream",
          "text": [
            "TensorFlow version: 2.3.0\n",
            "WARNING:tensorflow:From <ipython-input-1-02ee01bc34d6>:24: is_gpu_available (from tensorflow.python.framework.test_util) is deprecated and will be removed in a future version.\n",
            "Instructions for updating:\n",
            "Use `tf.config.list_physical_devices('GPU')` instead.\n",
            "Is using GPU? True\n"
          ],
          "name": "stdout"
        },
        {
          "output_type": "execute_result",
          "data": {
            "text/plain": [
              "[PhysicalDevice(name='/physical_device:GPU:0', device_type='GPU')]"
            ]
          },
          "metadata": {
            "tags": []
          },
          "execution_count": 1
        }
      ]
    },
    {
      "cell_type": "code",
      "metadata": {
        "id": "sqLed2WntSDN"
      },
      "source": [
        "#Load the dataset\n",
        "(X_Train, Y_Train),(X_Test, Y_Test) = tf.keras.datasets.cifar10.load_data()"
      ],
      "execution_count": 2,
      "outputs": []
    },
    {
      "cell_type": "code",
      "metadata": {
        "id": "AwZUGqJUtSHP",
        "colab": {
          "base_uri": "https://localhost:8080/",
          "height": 209
        },
        "outputId": "bfe368d1-897e-480b-fe38-3b48c7115aba"
      },
      "source": [
        "import matplotlib.pyplot as plt\n",
        "plt.figure(figsize=(20,10))\n",
        "plt.subplot(330+1+1)\n",
        "plt.imshow(X_Train[1])\n",
        "plt.show()\n",
        "#print(Y_Train)"
      ],
      "execution_count": 3,
      "outputs": [
        {
          "output_type": "display_data",
          "data": {
            "image/png": "[encoded data removed]",
            "text/plain": [
              "<Figure size 1440x720 with 1 Axes>"
            ]
          },
          "metadata": {
            "tags": [],
            "needs_background": "light"
          }
        }
      ]
    },
    {
      "cell_type": "code",
      "metadata": {
        "id": "MbZY4KqHtSLI"
      },
      "source": [
        "#Step 2: Data pre-processiing \n",
        "\n",
        "\n",
        "#Normalize the dataset\n",
        "X_Train = X_Train.astype('float32')\n",
        "X_Test = X_Test.astype('float32')\n",
        "\n",
        "# X_Train = X_Train/255.0\n",
        "# X_Test= X_Test/255.0\n",
        "\n",
        "#z-score\n",
        "mean = np.mean(X_Train,axis=(0,1,2,3))\n",
        "std = np.std(X_Train,axis=(0,1,2,3))\n",
        "X_Train = (X_Train-mean)/(std+1e-7)\n",
        "X_Test = (X_Test-mean)/(std+1e-7)"
      ],
      "execution_count": 4,
      "outputs": []
    },
    {
      "cell_type": "code",
      "metadata": {
        "id": "KwM7fpxpQF_b",
        "colab": {
          "base_uri": "https://localhost:8080/"
        },
        "outputId": "fcef3969-549f-453b-978a-e0efe5490115"
      },
      "source": [
        "X_Train.shape"
      ],
      "execution_count": 5,
      "outputs": [
        {
          "output_type": "execute_result",
          "data": {
            "text/plain": [
              "(50000, 32, 32, 3)"
            ]
          },
          "metadata": {
            "tags": []
          },
          "execution_count": 5
        }
      ]
    },
    {
      "cell_type": "code",
      "metadata": {
        "id": "ogw5rcVBzXC7"
      },
      "source": [
        "#Now one hot encoding on Y_Test\n",
        "\n",
        "#convert vectors into Binary class matrices\n",
        "\n",
        "Y_Train=keras.utils.to_categorical(Y_Train)\n",
        "Y_Test=keras.utils.to_categorical(Y_Test)"
      ],
      "execution_count": 6,
      "outputs": []
    },
    {
      "cell_type": "code",
      "metadata": {
        "id": "2TPQkA6GNnZl"
      },
      "source": [
        "cifar_classes = ['aeroplane', 'automobile', 'bird', 'cat', 'deer', 'dog', 'frog', 'horse', 'ship', 'truck']"
      ],
      "execution_count": 7,
      "outputs": []
    },
    {
      "cell_type": "code",
      "metadata": {
        "id": "lu6ucBoANhnR",
        "colab": {
          "base_uri": "https://localhost:8080/",
          "height": 459
        },
        "outputId": "dac406a5-bee6-48fd-ba03-11d9e179f3d5"
      },
      "source": [
        "def show_random_examples(x,y,p):\n",
        "  indices = np.random.choice(range(x.shape[0]),10,replace=False)\n",
        "  x = x[indices]\n",
        "  y = y[indices]\n",
        "  p = p[indices]\n",
        "\n",
        "  plt.figure(figsize=(10,5))\n",
        "  for i in range(10):\n",
        "    plt.subplot(2,5,1+i)\n",
        "    plt.imshow(x[i])\n",
        "    plt.xticks([])\n",
        "    plt.yticks([])\n",
        "\n",
        "    # show correct prediction in green and wrong in red\n",
        "    col ='green' if np.argmax(y[i]) == np.argmax(p[i]) else 'red'\n",
        "    plt.xlabel(cifar_classes[np.argmax(p[i])],color=col)\n",
        "  plt.show()\n",
        "\n",
        "show_random_examples(X_Train,Y_Train,Y_Train)"
      ],
      "execution_count": 8,
      "outputs": [
        {
          "output_type": "stream",
          "text": [
            "Clipping input data to the valid range for imshow with RGB data ([0..1] for floats or [0..255] for integers).\n",
            "Clipping input data to the valid range for imshow with RGB data ([0..1] for floats or [0..255] for integers).\n",
            "Clipping input data to the valid range for imshow with RGB data ([0..1] for floats or [0..255] for integers).\n",
            "Clipping input data to the valid range for imshow with RGB data ([0..1] for floats or [0..255] for integers).\n",
            "Clipping input data to the valid range for imshow with RGB data ([0..1] for floats or [0..255] for integers).\n",
            "Clipping input data to the valid range for imshow with RGB data ([0..1] for floats or [0..255] for integers).\n",
            "Clipping input data to the valid range for imshow with RGB data ([0..1] for floats or [0..255] for integers).\n",
            "Clipping input data to the valid range for imshow with RGB data ([0..1] for floats or [0..255] for integers).\n",
            "Clipping input data to the valid range for imshow with RGB data ([0..1] for floats or [0..255] for integers).\n",
            "Clipping input data to the valid range for imshow with RGB data ([0..1] for floats or [0..255] for integers).\n"
          ],
          "name": "stderr"
        },
        {
          "output_type": "display_data",
          "data": {
            "image/png": "[encoded data removed]",
            "text/plain": [
              "<Figure size 720x360 with 10 Axes>"
            ]
          },
          "metadata": {
            "tags": []
          }
        }
      ]
    },
    {
      "cell_type": "code",
      "metadata": {
        "id": "u0YS8iFXzXKr"
      },
      "source": [
        "#Check the shape of Y_Train\n",
        "num_classes = Y_Train.shape[1]"
      ],
      "execution_count": 9,
      "outputs": []
    },
    {
      "cell_type": "code",
      "metadata": {
        "id": "axfP8D-8zXT8"
      },
      "source": [
        "#Step 3: Model Creation\n",
        "\n",
        "weight_decay = 1e-4\n",
        "\n",
        "model = Sequential()\n",
        "\n",
        "model.add(Input(shape=(32,32,3)))\n",
        "\n",
        "model.add(Conv2D(32,3,activation='elu',padding='same',kernel_regularizer=regularizers.l2(weight_decay)))\n",
        "model.add(BatchNormalization())\n",
        "model.add(Conv2D(32,3,activation='elu',padding='same',kernel_regularizer=regularizers.l2(weight_decay)))\n",
        "model.add(MaxPooling2D(pool_size=2))\n",
        "model.add(Dropout(0.2))\n",
        "\n",
        "model.add(Conv2D(64,3,activation='elu',padding='same',kernel_regularizer=regularizers.l2(weight_decay)))\n",
        "model.add(BatchNormalization())\n",
        "model.add(Conv2D(64,3,activation='elu',padding='same',kernel_regularizer=regularizers.l2(weight_decay)))\n",
        "model.add(MaxPooling2D(pool_size=2))\n",
        "model.add(Dropout(0.3))\n",
        "\n",
        "model.add(Conv2D(128,3,activation='elu',padding='same',kernel_regularizer=regularizers.l2(weight_decay)))\n",
        "model.add(BatchNormalization())\n",
        "model.add(Conv2D(128,3,activation='elu',padding='same',kernel_regularizer=regularizers.l2(weight_decay)))\n",
        "model.add(MaxPooling2D(pool_size=2))\n",
        "model.add(Dropout(0.4))\n",
        "\n",
        "\n",
        "model.add(Flatten())\n",
        "\n",
        "model.add(Dense(128, activation='elu'))\n",
        "model.add(Dropout(0.2))\n",
        "\n",
        "model.add(Dense(10, activation= 'softmax'))\n",
        "\n",
        "#compile the model\n",
        "\n",
        "opt_rms = RMSprop(lr=0.001,decay=1e-6)\n",
        "\n",
        "datagen = ImageDataGenerator(\n",
        "    featurewise_center=False,\n",
        "    samplewise_center=False,\n",
        "    featurewise_std_normalization=False,\n",
        "    samplewise_std_normalization=False,\n",
        "    zca_whitening=False,\n",
        "    rotation_range=15,\n",
        "    width_shift_range=0.1,\n",
        "    height_shift_range=0.1,\n",
        "    horizontal_flip=True,\n",
        "    vertical_flip=False\n",
        "    )\n",
        "datagen.fit(X_Train)\n",
        "\n",
        "model.compile(loss='categorical_crossentropy', optimizer=opt_rms, metrics = ['accuracy'])"
      ],
      "execution_count": 10,
      "outputs": []
    },
    {
      "cell_type": "code",
      "metadata": {
        "id": "vEk2srvJzXOP",
        "colab": {
          "base_uri": "https://localhost:8080/"
        },
        "outputId": "1ee23556-2be2-485c-8550-ef4f696d66a6"
      },
      "source": [
        "model.summary()"
      ],
      "execution_count": 11,
      "outputs": [
        {
          "output_type": "stream",
          "text": [
            "Model: \"sequential\"\n",
            "_________________________________________________________________\n",
            "Layer (type)                 Output Shape              Param #   \n",
            "=================================================================\n",
            "conv2d (Conv2D)              (None, 32, 32, 32)        896       \n",
            "_________________________________________________________________\n",
            "batch_normalization (BatchNo (None, 32, 32, 32)        128       \n",
            "_________________________________________________________________\n",
            "conv2d_1 (Conv2D)            (None, 32, 32, 32)        9248      \n",
            "_________________________________________________________________\n",
            "max_pooling2d (MaxPooling2D) (None, 16, 16, 32)        0         \n",
            "_________________________________________________________________\n",
            "dropout (Dropout)            (None, 16, 16, 32)        0         \n",
            "_________________________________________________________________\n",
            "conv2d_2 (Conv2D)            (None, 16, 16, 64)        18496     \n",
            "_________________________________________________________________\n",
            "batch_normalization_1 (Batch (None, 16, 16, 64)        256       \n",
            "_________________________________________________________________\n",
            "conv2d_3 (Conv2D)            (None, 16, 16, 64)        36928     \n",
            "_________________________________________________________________\n",
            "max_pooling2d_1 (MaxPooling2 (None, 8, 8, 64)          0         \n",
            "_________________________________________________________________\n",
            "dropout_1 (Dropout)          (None, 8, 8, 64)          0         \n",
            "_________________________________________________________________\n",
            "conv2d_4 (Conv2D)            (None, 8, 8, 128)         73856     \n",
            "_________________________________________________________________\n",
            "batch_normalization_2 (Batch (None, 8, 8, 128)         512       \n",
            "_________________________________________________________________\n",
            "conv2d_5 (Conv2D)            (None, 8, 8, 128)         147584    \n",
            "_________________________________________________________________\n",
            "max_pooling2d_2 (MaxPooling2 (None, 4, 4, 128)         0         \n",
            "_________________________________________________________________\n",
            "dropout_2 (Dropout)          (None, 4, 4, 128)         0         \n",
            "_________________________________________________________________\n",
            "flatten (Flatten)            (None, 2048)              0         \n",
            "_________________________________________________________________\n",
            "dense (Dense)                (None, 128)               262272    \n",
            "_________________________________________________________________\n",
            "dropout_3 (Dropout)          (None, 128)               0         \n",
            "_________________________________________________________________\n",
            "dense_1 (Dense)              (None, 10)                1290      \n",
            "=================================================================\n",
            "Total params: 551,466\n",
            "Trainable params: 551,018\n",
            "Non-trainable params: 448\n",
            "_________________________________________________________________\n"
          ],
          "name": "stdout"
        }
      ]
    },
    {
      "cell_type": "code",
      "metadata": {
        "id": "Y-eSnbTwzW-N",
        "colab": {
          "base_uri": "https://localhost:8080/"
        },
        "outputId": "5549752e-afde-4af1-934f-291bd65bebd9"
      },
      "source": [
        "history = model.fit(X_Train, Y_Train, validation_data=(X_Test,Y_Test), epochs=50, batch_size=128,callbacks=[\n",
        "                tf.keras.callbacks.ModelCheckpoint('models/model_{val_accuracy:.3f}.h5',\n",
        "                                                   save_best_only=True,save_weights_only=False,\n",
        "                                                   monitor='val_accuracy')\n",
        "              ])"
      ],
      "execution_count": 12,
      "outputs": [
        {
          "output_type": "stream",
          "text": [
            "Epoch 1/50\n",
            "391/391 [==============================] - 9s 23ms/step - loss: 1.7202 - accuracy: 0.4351 - val_loss: 1.2895 - val_accuracy: 0.5679\n",
            "Epoch 2/50\n",
            "391/391 [==============================] - 8s 21ms/step - loss: 1.1041 - accuracy: 0.6330 - val_loss: 1.1973 - val_accuracy: 0.6310\n",
            "Epoch 3/50\n",
            "391/391 [==============================] - 8s 21ms/step - loss: 0.9150 - accuracy: 0.6985 - val_loss: 1.0260 - val_accuracy: 0.6793\n",
            "Epoch 4/50\n",
            "391/391 [==============================] - 8s 21ms/step - loss: 0.8162 - accuracy: 0.7358 - val_loss: 0.7984 - val_accuracy: 0.7460\n",
            "Epoch 5/50\n",
            "391/391 [==============================] - 8s 21ms/step - loss: 0.7459 - accuracy: 0.7634 - val_loss: 0.7541 - val_accuracy: 0.7585\n",
            "Epoch 6/50\n",
            "391/391 [==============================] - 8s 21ms/step - loss: 0.6923 - accuracy: 0.7847 - val_loss: 0.6894 - val_accuracy: 0.7897\n",
            "Epoch 7/50\n",
            "391/391 [==============================] - 8s 21ms/step - loss: 0.6523 - accuracy: 0.7998 - val_loss: 0.6950 - val_accuracy: 0.7894\n",
            "Epoch 8/50\n",
            "391/391 [==============================] - 8s 21ms/step - loss: 0.6222 - accuracy: 0.8105 - val_loss: 0.6654 - val_accuracy: 0.8048\n",
            "Epoch 9/50\n",
            "391/391 [==============================] - 8s 21ms/step - loss: 0.5931 - accuracy: 0.8239 - val_loss: 0.6839 - val_accuracy: 0.8079\n",
            "Epoch 10/50\n",
            "391/391 [==============================] - 8s 21ms/step - loss: 0.5740 - accuracy: 0.8328 - val_loss: 0.6649 - val_accuracy: 0.8102\n",
            "Epoch 11/50\n",
            "391/391 [==============================] - 8s 21ms/step - loss: 0.5513 - accuracy: 0.8427 - val_loss: 0.6464 - val_accuracy: 0.8203\n",
            "Epoch 12/50\n",
            "391/391 [==============================] - 8s 21ms/step - loss: 0.5371 - accuracy: 0.8481 - val_loss: 0.6681 - val_accuracy: 0.8106\n",
            "Epoch 13/50\n",
            "391/391 [==============================] - 8s 21ms/step - loss: 0.5262 - accuracy: 0.8526 - val_loss: 0.6764 - val_accuracy: 0.8111\n",
            "Epoch 14/50\n",
            "391/391 [==============================] - 8s 21ms/step - loss: 0.5157 - accuracy: 0.8572 - val_loss: 0.6392 - val_accuracy: 0.8265\n",
            "Epoch 15/50\n",
            "391/391 [==============================] - 8s 21ms/step - loss: 0.5068 - accuracy: 0.8632 - val_loss: 0.7200 - val_accuracy: 0.8131\n",
            "Epoch 16/50\n",
            "391/391 [==============================] - 8s 21ms/step - loss: 0.4953 - accuracy: 0.8682 - val_loss: 0.6048 - val_accuracy: 0.8372\n",
            "Epoch 17/50\n",
            "391/391 [==============================] - 8s 21ms/step - loss: 0.4927 - accuracy: 0.8701 - val_loss: 0.6679 - val_accuracy: 0.8267\n",
            "Epoch 18/50\n",
            "391/391 [==============================] - 8s 21ms/step - loss: 0.4833 - accuracy: 0.8747 - val_loss: 0.7157 - val_accuracy: 0.8320\n",
            "Epoch 19/50\n",
            "391/391 [==============================] - 8s 21ms/step - loss: 0.4762 - accuracy: 0.8786 - val_loss: 0.6792 - val_accuracy: 0.8253\n",
            "Epoch 20/50\n",
            "391/391 [==============================] - 8s 21ms/step - loss: 0.4703 - accuracy: 0.8810 - val_loss: 0.6446 - val_accuracy: 0.8421\n",
            "Epoch 21/50\n",
            "391/391 [==============================] - 8s 21ms/step - loss: 0.4611 - accuracy: 0.8828 - val_loss: 0.6888 - val_accuracy: 0.8369\n",
            "Epoch 22/50\n",
            "391/391 [==============================] - 8s 21ms/step - loss: 0.4649 - accuracy: 0.8838 - val_loss: 0.6347 - val_accuracy: 0.8383\n",
            "Epoch 23/50\n",
            "391/391 [==============================] - 8s 21ms/step - loss: 0.4518 - accuracy: 0.8891 - val_loss: 0.6321 - val_accuracy: 0.8387\n",
            "Epoch 24/50\n",
            "391/391 [==============================] - 8s 21ms/step - loss: 0.4504 - accuracy: 0.8912 - val_loss: 0.6409 - val_accuracy: 0.8420\n",
            "Epoch 25/50\n",
            "391/391 [==============================] - 8s 21ms/step - loss: 0.4455 - accuracy: 0.8947 - val_loss: 0.6638 - val_accuracy: 0.8334\n",
            "Epoch 26/50\n",
            "391/391 [==============================] - 8s 21ms/step - loss: 0.4502 - accuracy: 0.8936 - val_loss: 0.6562 - val_accuracy: 0.8452\n",
            "Epoch 27/50\n",
            "391/391 [==============================] - 8s 21ms/step - loss: 0.4474 - accuracy: 0.8958 - val_loss: 0.6797 - val_accuracy: 0.8406\n",
            "Epoch 28/50\n",
            "391/391 [==============================] - 8s 21ms/step - loss: 0.4413 - accuracy: 0.8982 - val_loss: 0.6644 - val_accuracy: 0.8370\n",
            "Epoch 29/50\n",
            "391/391 [==============================] - 8s 21ms/step - loss: 0.4387 - accuracy: 0.8997 - val_loss: 0.6774 - val_accuracy: 0.8422\n",
            "Epoch 30/50\n",
            "391/391 [==============================] - 8s 21ms/step - loss: 0.4396 - accuracy: 0.8987 - val_loss: 0.6891 - val_accuracy: 0.8402\n",
            "Epoch 31/50\n",
            "391/391 [==============================] - 8s 21ms/step - loss: 0.4348 - accuracy: 0.9018 - val_loss: 0.7085 - val_accuracy: 0.8341\n",
            "Epoch 32/50\n",
            "391/391 [==============================] - 8s 21ms/step - loss: 0.4326 - accuracy: 0.9019 - val_loss: 0.7011 - val_accuracy: 0.8285\n",
            "Epoch 33/50\n",
            "391/391 [==============================] - 8s 21ms/step - loss: 0.4285 - accuracy: 0.9042 - val_loss: 0.6884 - val_accuracy: 0.8428\n",
            "Epoch 34/50\n",
            "391/391 [==============================] - 8s 21ms/step - loss: 0.4289 - accuracy: 0.9062 - val_loss: 0.6710 - val_accuracy: 0.8399\n",
            "Epoch 35/50\n",
            "391/391 [==============================] - 8s 21ms/step - loss: 0.4300 - accuracy: 0.9056 - val_loss: 0.6550 - val_accuracy: 0.8428\n",
            "Epoch 36/50\n",
            "391/391 [==============================] - 8s 21ms/step - loss: 0.4207 - accuracy: 0.9089 - val_loss: 0.6869 - val_accuracy: 0.8411\n",
            "Epoch 37/50\n",
            "391/391 [==============================] - 8s 21ms/step - loss: 0.4234 - accuracy: 0.9091 - val_loss: 0.6562 - val_accuracy: 0.8570\n",
            "Epoch 38/50\n",
            "391/391 [==============================] - 8s 21ms/step - loss: 0.4264 - accuracy: 0.9083 - val_loss: 0.6770 - val_accuracy: 0.8468\n",
            "Epoch 39/50\n",
            "391/391 [==============================] - 8s 21ms/step - loss: 0.4256 - accuracy: 0.9095 - val_loss: 0.6780 - val_accuracy: 0.8478\n",
            "Epoch 40/50\n",
            "391/391 [==============================] - 8s 21ms/step - loss: 0.4203 - accuracy: 0.9101 - val_loss: 0.6519 - val_accuracy: 0.8466\n",
            "Epoch 41/50\n",
            "391/391 [==============================] - 8s 21ms/step - loss: 0.4204 - accuracy: 0.9117 - val_loss: 0.7479 - val_accuracy: 0.8359\n",
            "Epoch 42/50\n",
            "391/391 [==============================] - 8s 21ms/step - loss: 0.4137 - accuracy: 0.9133 - val_loss: 0.6894 - val_accuracy: 0.8525\n",
            "Epoch 43/50\n",
            "391/391 [==============================] - 8s 21ms/step - loss: 0.4189 - accuracy: 0.9103 - val_loss: 0.7213 - val_accuracy: 0.8442\n",
            "Epoch 44/50\n",
            "391/391 [==============================] - 8s 21ms/step - loss: 0.4133 - accuracy: 0.9158 - val_loss: 0.6718 - val_accuracy: 0.8561\n",
            "Epoch 45/50\n",
            "391/391 [==============================] - 8s 21ms/step - loss: 0.4100 - accuracy: 0.9166 - val_loss: 0.6851 - val_accuracy: 0.8510\n",
            "Epoch 46/50\n",
            "391/391 [==============================] - 8s 21ms/step - loss: 0.4064 - accuracy: 0.9165 - val_loss: 0.6693 - val_accuracy: 0.8499\n",
            "Epoch 47/50\n",
            "391/391 [==============================] - 8s 21ms/step - loss: 0.4145 - accuracy: 0.9154 - val_loss: 0.7361 - val_accuracy: 0.8417\n",
            "Epoch 48/50\n",
            "391/391 [==============================] - 8s 21ms/step - loss: 0.4114 - accuracy: 0.9167 - val_loss: 0.6603 - val_accuracy: 0.8545\n",
            "Epoch 49/50\n",
            "391/391 [==============================] - 8s 21ms/step - loss: 0.4055 - accuracy: 0.9179 - val_loss: 0.7293 - val_accuracy: 0.8402\n",
            "Epoch 50/50\n",
            "391/391 [==============================] - 8s 21ms/step - loss: 0.4089 - accuracy: 0.9172 - val_loss: 0.6643 - val_accuracy: 0.8552\n"
          ],
          "name": "stdout"
        }
      ]
    },
    {
      "cell_type": "code",
      "metadata": {
        "id": "lkTVPE2A6P9S"
      },
      "source": [
        "model.save('model_TermProject_Final.h5')"
      ],
      "execution_count": 13,
      "outputs": []
    },
    {
      "cell_type": "code",
      "metadata": {
        "id": "I5QxELuH_-I3",
        "colab": {
          "base_uri": "https://localhost:8080/",
          "height": 295
        },
        "outputId": "5b824c28-37ad-4778-85ba-aadd5159b481"
      },
      "source": [
        "# plot accuracy\n",
        "plt.plot(history.history['accuracy'])\n",
        "plt.plot(history.history['val_accuracy'])\n",
        "plt.title('model accuracy')\n",
        "plt.ylabel('accuracy')\n",
        "plt.xlabel('epoch')\n",
        "plt.legend(['train', 'validation'], loc='upper left')\n",
        "plt.show()"
      ],
      "execution_count": 14,
      "outputs": [
        {
          "output_type": "display_data",
          "data": {
            "image/png": "[encoded data removed]",
            "text/plain": [
              "<Figure size 432x288 with 1 Axes>"
            ]
          },
          "metadata": {
            "tags": [],
            "needs_background": "light"
          }
        }
      ]
    },
    {
      "cell_type": "code",
      "metadata": {
        "id": "KqdP4yQ2_-I-",
        "colab": {
          "base_uri": "https://localhost:8080/",
          "height": 295
        },
        "outputId": "13d779d4-d716-4c20-d196-34907d2043e1"
      },
      "source": [
        "# plot loss\n",
        "plt.plot(history.history['loss'])\n",
        "plt.plot(history.history['val_loss'])\n",
        "plt.title('model loss')\n",
        "plt.ylabel('loss')\n",
        "plt.xlabel('epoch')\n",
        "plt.legend(['train', 'validation'], loc='upper left')\n",
        "plt.show()"
      ],
      "execution_count": 15,
      "outputs": [
        {
          "output_type": "display_data",
          "data": {
            "image/png": "[encoded data removed]",
            "text/plain": [
              "<Figure size 432x288 with 1 Axes>"
            ]
          },
          "metadata": {
            "tags": [],
            "needs_background": "light"
          }
        }
      ]
    },
    {
      "cell_type": "code",
      "metadata": {
        "id": "K-ZIAAqj8QZv",
        "colab": {
          "base_uri": "https://localhost:8080/"
        },
        "outputId": "49d9f850-b741-4003-c147-1427e9655a4d"
      },
      "source": [
        "#Step 4: Evaluation\n",
        "loss, accuracy_= model.evaluate(X_Test, Y_Test)\n",
        "print(\"Accuracy of this model is: \", accuracy_*100)"
      ],
      "execution_count": 16,
      "outputs": [
        {
          "output_type": "stream",
          "text": [
            "313/313 [==============================] - 1s 4ms/step - loss: 0.6643 - accuracy: 0.8552\n",
            "Accuracy of this model is:  85.51999926567078\n"
          ],
          "name": "stdout"
        }
      ]
    },
    {
      "cell_type": "code",
      "metadata": {
        "id": "JiSySPHP8QRP"
      },
      "source": [
        "preds = model.predict(X_Test)"
      ],
      "execution_count": 17,
      "outputs": []
    },
    {
      "cell_type": "code",
      "metadata": {
        "id": "cv-RFv4RRDkj",
        "colab": {
          "base_uri": "https://localhost:8080/"
        },
        "outputId": "94883d6b-8ab6-4448-eade-aed485bb9320"
      },
      "source": [
        "Y_Train.shape"
      ],
      "execution_count": 18,
      "outputs": [
        {
          "output_type": "execute_result",
          "data": {
            "text/plain": [
              "(50000, 10)"
            ]
          },
          "metadata": {
            "tags": []
          },
          "execution_count": 18
        }
      ]
    },
    {
      "cell_type": "code",
      "metadata": {
        "id": "P8ewsF6XQ9pA",
        "colab": {
          "base_uri": "https://localhost:8080/"
        },
        "outputId": "8addeca8-2f5e-47d8-df5a-df9740168a49"
      },
      "source": [
        "preds.shape"
      ],
      "execution_count": 19,
      "outputs": [
        {
          "output_type": "execute_result",
          "data": {
            "text/plain": [
              "(10000, 10)"
            ]
          },
          "metadata": {
            "tags": []
          },
          "execution_count": 19
        }
      ]
    },
    {
      "cell_type": "code",
      "metadata": {
        "id": "o113wxzt8Qc3",
        "colab": {
          "base_uri": "https://localhost:8080/",
          "height": 459
        },
        "outputId": "b1e137d6-ff0f-4652-ce32-2c9a1a565749"
      },
      "source": [
        "show_random_examples(X_Test,Y_Test,preds)"
      ],
      "execution_count": 20,
      "outputs": [
        {
          "output_type": "stream",
          "text": [
            "Clipping input data to the valid range for imshow with RGB data ([0..1] for floats or [0..255] for integers).\n",
            "Clipping input data to the valid range for imshow with RGB data ([0..1] for floats or [0..255] for integers).\n",
            "Clipping input data to the valid range for imshow with RGB data ([0..1] for floats or [0..255] for integers).\n",
            "Clipping input data to the valid range for imshow with RGB data ([0..1] for floats or [0..255] for integers).\n",
            "Clipping input data to the valid range for imshow with RGB data ([0..1] for floats or [0..255] for integers).\n",
            "Clipping input data to the valid range for imshow with RGB data ([0..1] for floats or [0..255] for integers).\n",
            "Clipping input data to the valid range for imshow with RGB data ([0..1] for floats or [0..255] for integers).\n",
            "Clipping input data to the valid range for imshow with RGB data ([0..1] for floats or [0..255] for integers).\n",
            "Clipping input data to the valid range for imshow with RGB data ([0..1] for floats or [0..255] for integers).\n",
            "Clipping input data to the valid range for imshow with RGB data ([0..1] for floats or [0..255] for integers).\n"
          ],
          "name": "stderr"
        },
        {
          "output_type": "display_data",
          "data": {
            "image/png": "[encoded data removed]",
            "text/plain": [
              "<Figure size 720x360 with 10 Axes>"
            ]
          },
          "metadata": {
            "tags": []
          }
        }
      ]
    },
    {
      "cell_type": "code",
      "metadata": {
        "id": "JzMSGaqVQ5pe",
        "colab": {
          "base_uri": "https://localhost:8080/",
          "height": 367
        },
        "outputId": "7ff80633-c3ad-4b00-a25f-5868702abc7f"
      },
      "source": [
        "\n",
        "import streamlit as st\n",
        "import json\n",
        "import requests\n",
        "import numpy as np\n",
        "\n",
        "URI = 'http://127.0.0.1:5000'\n",
        "\n",
        "st.title('Neural Network Visualizer')\n",
        "st.sidebar.markdown('## Input Image')\n",
        "\n",
        "if st.button('Get Random Prediction'):\n",
        "  response = requests.post(URI, data={})\n",
        "  response = json.loads(response.text)\n",
        "  preds = response.get('prediction')\n",
        "  image = response.get('image')\n",
        "  image = np.reshape(image, (28,28))\n",
        "  st.sidebar.image(image, width=150)\n",
        "\n",
        "  for layer, p in enumerate(preds):\n",
        "    numbers = np.squeeze(np.array(p))\n",
        "\n",
        "    plt.figure(figsize=(32,4))\n",
        "\n",
        "    if layer == 2:\n",
        "      row = 1\n",
        "      col = 10\n",
        "    else:\n",
        "      row = 2\n",
        "      col = 16\n",
        "\n",
        "    for i, number in enumerate(numbers):\n",
        "      plt.subplot(row,col,i+1)\n",
        "      plt.imshow(number * np.ones((8,8,3)).astype('float32'))\n",
        "      plt.xticks([])\n",
        "      plt.yticks([])\n",
        "\n",
        "      if layer == 2:\n",
        "        plt.xlabel(str(i), fontsize=40)\n",
        "\n",
        "    plt.subplots_adjust(wspace=0.05, hspace=0.05)\n",
        "    plt.tight_layout()\n",
        "    st.text('Layer {}'.format(layer+1))\n",
        "    st.pyplot()"
      ],
      "execution_count": 21,
      "outputs": [
        {
          "output_type": "error",
          "ename": "ModuleNotFoundError",
          "evalue": "ignored",
          "traceback": [
            "\u001b[0;31m---------------------------------------------------------------------------\u001b[0m",
            "\u001b[0;31mModuleNotFoundError\u001b[0m                       Traceback (most recent call last)",
            "\u001b[0;32m<ipython-input-21-2916e5656b4c>\u001b[0m in \u001b[0;36m<module>\u001b[0;34m()\u001b[0m\n\u001b[1;32m      1\u001b[0m \u001b[0;34m\u001b[0m\u001b[0m\n\u001b[0;32m----> 2\u001b[0;31m \u001b[0;32mimport\u001b[0m \u001b[0mstreamlit\u001b[0m \u001b[0;32mas\u001b[0m \u001b[0mst\u001b[0m\u001b[0;34m\u001b[0m\u001b[0;34m\u001b[0m\u001b[0m\n\u001b[0m\u001b[1;32m      3\u001b[0m \u001b[0;32mimport\u001b[0m \u001b[0mjson\u001b[0m\u001b[0;34m\u001b[0m\u001b[0;34m\u001b[0m\u001b[0m\n\u001b[1;32m      4\u001b[0m \u001b[0;32mimport\u001b[0m \u001b[0mrequests\u001b[0m\u001b[0;34m\u001b[0m\u001b[0;34m\u001b[0m\u001b[0m\n\u001b[1;32m      5\u001b[0m \u001b[0;32mimport\u001b[0m \u001b[0mnumpy\u001b[0m \u001b[0;32mas\u001b[0m \u001b[0mnp\u001b[0m\u001b[0;34m\u001b[0m\u001b[0;34m\u001b[0m\u001b[0m\n",
            "\u001b[0;31mModuleNotFoundError\u001b[0m: No module named 'streamlit'",
            "",
            "\u001b[0;31m---------------------------------------------------------------------------\u001b[0;32m\nNOTE: If your import is failing due to a missing package, you can\nmanually install dependencies using either !pip or !apt.\n\nTo view examples of installing some common dependencies, click the\n\"Open Examples\" button below.\n\u001b[0;31m---------------------------------------------------------------------------\u001b[0m\n"
          ]
        }
      ]
    }
  ]
}