{
  "nbformat": 4,
  "nbformat_minor": 0,
  "metadata": {
    "colab": {
      "name": "Team5_milestone1.ipynb",
      "provenance": [],
      "collapsed_sections": [],
      "include_colab_link": true
    },
    "kernelspec": {
      "name": "python37664bitbasecondac4937656be8544b7a6d6182776239ee9",
      "display_name": "Python 3.7.6 64-bit ('base': conda)"
    },
    "accelerator": "GPU"
  },
  "cells": [
    {
      "cell_type": "markdown",
      "metadata": {
        "id": "view-in-github",
        "colab_type": "text"
      },
      "source": [
        "<a href=\"https://colab.research.google.com/github/the-redlord/comp455/blob/master/Project/Team5_finalv3.ipynb\" target=\"_parent\"><img src=\"https://colab.research.google.com/assets/colab-badge.svg\" alt=\"Open In Colab\"/></a>"
      ]
    },
    {
      "cell_type": "code",
      "metadata": {
        "id": "dPnJbqMCZKNE",
        "colab": {
          "base_uri": "https://localhost:8080/"
        },
        "outputId": "d7db7416-e16c-4091-86a2-91418c99214d"
      },
      "source": [
        "#Step 1: import\n",
        "\n",
        "import tensorflow as tf\n",
        "from tensorflow import keras\n",
        "\n",
        "import os\n",
        "\n",
        "from keras import regularizers\n",
        "from keras.models import Sequential\n",
        "from keras.layers import Dense, Dropout, Flatten\n",
        "from keras.optimizers import RMSprop\n",
        "from keras.constraints import maxnorm\n",
        "from keras.layers import  Conv2D, MaxPooling2D, BatchNormalization, Input\n",
        "from keras.preprocessing.image import ImageDataGenerator\n",
        "\n",
        "import cv2\n",
        "import numpy as np\n",
        "import matplotlib.pyplot as plt\n",
        "%matplotlib inline\n",
        "\n",
        "if not os.path.isdir('models'):\n",
        "    os.mkdir('models')\n",
        "    \n",
        "print('TensorFlow version:', tf.__version__)\n",
        "print('Is using GPU?', tf.test.is_gpu_available())\n",
        "tf.config.list_physical_devices('GPU')"
      ],
      "execution_count": 1,
      "outputs": [
        {
          "output_type": "stream",
          "text": [
            "TensorFlow version: 2.3.0\n",
            "WARNING:tensorflow:From <ipython-input-1-21cfbed13254>:25: is_gpu_available (from tensorflow.python.framework.test_util) is deprecated and will be removed in a future version.\n",
            "Instructions for updating:\n",
            "Use `tf.config.list_physical_devices('GPU')` instead.\n",
            "Is using GPU? True\n"
          ],
          "name": "stdout"
        },
        {
          "output_type": "execute_result",
          "data": {
            "text/plain": [
              "[PhysicalDevice(name='/physical_device:GPU:0', device_type='GPU')]"
            ]
          },
          "metadata": {
            "tags": []
          },
          "execution_count": 1
        }
      ]
    },
    {
      "cell_type": "code",
      "metadata": {
        "id": "sqLed2WntSDN"
      },
      "source": [
        "#Load the dataset\n",
        "(X_Train, Y_Train),(X_Test, Y_Test) = tf.keras.datasets.cifar10.load_data()"
      ],
      "execution_count": 2,
      "outputs": []
    },
    {
      "cell_type": "code",
      "metadata": {
        "id": "AwZUGqJUtSHP",
        "colab": {
          "base_uri": "https://localhost:8080/",
          "height": 209
        },
        "outputId": "6b19340d-ba37-43ca-9434-026daa540057"
      },
      "source": [
        "import matplotlib.pyplot as plt\n",
        "plt.figure(figsize=(20,10))\n",
        "plt.subplot(330+1+1)\n",
        "plt.imshow(X_Train[1])\n",
        "plt.show()\n",
        "#print(Y_Train)"
      ],
      "execution_count": 3,
      "outputs": [
        {
          "output_type": "display_data",
          "data": {
            "image/png": "[encoded data removed]",
            "text/plain": [
              "<Figure size 1440x720 with 1 Axes>"
            ]
          },
          "metadata": {
            "tags": [],
            "needs_background": "light"
          }
        }
      ]
    },
    {
      "cell_type": "code",
      "metadata": {
        "id": "MbZY4KqHtSLI"
      },
      "source": [
        "#Step 2: Data pre-processiing \n",
        "\n",
        "\n",
        "#Normalize the dataset\n",
        "X_Train = X_Train.astype('float32')\n",
        "X_Test = X_Test.astype('float32')\n",
        "\n",
        "# X_Train = X_Train/255.0\n",
        "# X_Test= X_Test/255.0\n",
        "\n",
        "#z-score\n",
        "mean = np.mean(X_Train,axis=(0,1,2,3))\n",
        "std = np.std(X_Train,axis=(0,1,2,3))\n",
        "X_Train = (X_Train-mean)/(std+1e-7)\n",
        "X_Test = (X_Test-mean)/(std+1e-7)"
      ],
      "execution_count": 4,
      "outputs": []
    },
    {
      "cell_type": "code",
      "metadata": {
        "id": "KwM7fpxpQF_b",
        "colab": {
          "base_uri": "https://localhost:8080/"
        },
        "outputId": "7be42bfe-0080-4fd6-cf48-9dbfbda83f6c"
      },
      "source": [
        "X_Train.shape"
      ],
      "execution_count": 5,
      "outputs": [
        {
          "output_type": "execute_result",
          "data": {
            "text/plain": [
              "(50000, 32, 32, 3)"
            ]
          },
          "metadata": {
            "tags": []
          },
          "execution_count": 5
        }
      ]
    },
    {
      "cell_type": "code",
      "metadata": {
        "id": "ogw5rcVBzXC7"
      },
      "source": [
        "#Now one hot encoding on Y_Test\n",
        "\n",
        "#convert vectors into Binary class matrices\n",
        "\n",
        "Y_Train=keras.utils.to_categorical(Y_Train)\n",
        "Y_Test=keras.utils.to_categorical(Y_Test)"
      ],
      "execution_count": 6,
      "outputs": []
    },
    {
      "cell_type": "code",
      "metadata": {
        "id": "2TPQkA6GNnZl"
      },
      "source": [
        "cifar_classes = ['aeroplane', 'automobile', 'bird', 'cat', 'deer', 'dog', 'frog', 'horse', 'ship', 'truck']"
      ],
      "execution_count": 7,
      "outputs": []
    },
    {
      "cell_type": "code",
      "metadata": {
        "id": "lu6ucBoANhnR",
        "colab": {
          "base_uri": "https://localhost:8080/",
          "height": 477
        },
        "outputId": "3770904c-fb0e-4c61-a9ea-3b60e3499a86"
      },
      "source": [
        "def show_random_examples(x,y,p):\n",
        "  indices = np.random.choice(range(x.shape[0]),10,replace=False)\n",
        "  x = x[indices]\n",
        "  y = y[indices]\n",
        "  p = p[indices]\n",
        "\n",
        "  plt.figure(figsize=(10,5))\n",
        "  for i in range(10):\n",
        "    plt.subplot(2,5,1+i)\n",
        "    plt.imshow(x[i])\n",
        "    plt.xticks([])\n",
        "    plt.yticks([])\n",
        "\n",
        "    # show correct prediction in green and wrong in red\n",
        "    col ='green' if np.argmax(y[i]) == np.argmax(p[i]) else 'red'\n",
        "    plt.xlabel(cifar_classes[np.argmax(p[i])],color=col)\n",
        "  plt.show()\n",
        "\n",
        "show_random_examples(X_Train,Y_Train,Y_Train)"
      ],
      "execution_count": 8,
      "outputs": [
        {
          "output_type": "stream",
          "text": [
            "Clipping input data to the valid range for imshow with RGB data ([0..1] for floats or [0..255] for integers).\n",
            "Clipping input data to the valid range for imshow with RGB data ([0..1] for floats or [0..255] for integers).\n",
            "Clipping input data to the valid range for imshow with RGB data ([0..1] for floats or [0..255] for integers).\n",
            "Clipping input data to the valid range for imshow with RGB data ([0..1] for floats or [0..255] for integers).\n",
            "Clipping input data to the valid range for imshow with RGB data ([0..1] for floats or [0..255] for integers).\n",
            "Clipping input data to the valid range for imshow with RGB data ([0..1] for floats or [0..255] for integers).\n",
            "Clipping input data to the valid range for imshow with RGB data ([0..1] for floats or [0..255] for integers).\n",
            "Clipping input data to the valid range for imshow with RGB data ([0..1] for floats or [0..255] for integers).\n",
            "Clipping input data to the valid range for imshow with RGB data ([0..1] for floats or [0..255] for integers).\n",
            "Clipping input data to the valid range for imshow with RGB data ([0..1] for floats or [0..255] for integers).\n"
          ],
          "name": "stderr"
        },
        {
          "output_type": "display_data",
          "data": {
            "image/png": "[encoded data removed]",
            "text/plain": [
              "<Figure size 720x360 with 10 Axes>"
            ]
          },
          "metadata": {
            "tags": []
          }
        }
      ]
    },
    {
      "cell_type": "code",
      "metadata": {
        "id": "u0YS8iFXzXKr"
      },
      "source": [
        "#Check the shape of Y_Train\n",
        "num_classes = Y_Train.shape[1]"
      ],
      "execution_count": 9,
      "outputs": []
    },
    {
      "cell_type": "code",
      "metadata": {
        "id": "axfP8D-8zXT8"
      },
      "source": [
        "#Step 3: Model Creation\n",
        "\n",
        "weightPath = 'model_TermProject_Final.h5'\n",
        "\n",
        "def modelGen(weights_path=None):\n",
        "    model = None\n",
        "\n",
        "    if weights_path != None:\n",
        "        model = tf.keras.models.load_model('model_TermProject_Final.h5')\n",
        "    else:\n",
        "        weight_decay = 1e-4\n",
        "\n",
        "        model = Sequential()\n",
        "\n",
        "        model.add(Input(shape=(32,32,3)))\n",
        "\n",
        "        model.add(Conv2D(32,3,activation='elu',padding='same',kernel_regularizer=regularizers.l2(weight_decay)))\n",
        "        model.add(BatchNormalization())\n",
        "        model.add(Conv2D(32,3,activation='elu',padding='same',kernel_regularizer=regularizers.l2(weight_decay)))\n",
        "        model.add(MaxPooling2D(pool_size=2))\n",
        "        model.add(Dropout(0.2))\n",
        "\n",
        "        model.add(Conv2D(64,3,activation='elu',padding='same',kernel_regularizer=regularizers.l2(weight_decay)))\n",
        "        model.add(BatchNormalization())\n",
        "        model.add(Conv2D(64,3,activation='elu',padding='same',kernel_regularizer=regularizers.l2(weight_decay)))\n",
        "        model.add(MaxPooling2D(pool_size=2))\n",
        "        model.add(Dropout(0.3))\n",
        "\n",
        "        model.add(Conv2D(128,3,activation='elu',padding='same',kernel_regularizer=regularizers.l2(weight_decay)))\n",
        "        model.add(BatchNormalization())\n",
        "        model.add(Conv2D(128,3,activation='elu',padding='same',kernel_regularizer=regularizers.l2(weight_decay)))\n",
        "        model.add(MaxPooling2D(pool_size=2))\n",
        "        model.add(Dropout(0.4))\n",
        "\n",
        "        model.add(Flatten())\n",
        "\n",
        "        model.add(Dense(128, activation='elu'))\n",
        "        model.add(Dropout(0.2))\n",
        "\n",
        "        model.add(Dense(10, activation= 'softmax'))    \n",
        "\n",
        "    return model\n",
        "\n",
        "\n",
        "# datagen = ImageDataGenerator(\n",
        "#     featurewise_center=False,\n",
        "#     samplewise_center=False,\n",
        "#     featurewise_std_normalization=False,\n",
        "#     samplewise_std_normalization=False,\n",
        "#     zca_whitening=False,\n",
        "#     rotation_range=15,\n",
        "#     width_shift_range=0.1,\n",
        "#     height_shift_range=0.1,\n",
        "#     horizontal_flip=True,\n",
        "#     vertical_flip=False\n",
        "#     )\n",
        "# datagen.fit(X_Train)\n",
        "\n",
        "\n",
        "#compile the model\n",
        "\n",
        "opt_rms = RMSprop(lr=0.001,decay=1e-6)\n",
        "\n",
        "model = modelGen(weightPath)\n",
        "\n",
        "model.compile(loss='categorical_crossentropy', optimizer=opt_rms, metrics = ['accuracy'])"
      ],
      "execution_count": 10,
      "outputs": []
    },
    {
      "cell_type": "code",
      "metadata": {
        "id": "vEk2srvJzXOP",
        "colab": {
          "base_uri": "https://localhost:8080/"
        },
        "outputId": "a8cefd0c-e83f-49ec-e86b-fc3a4801be83"
      },
      "source": [
        "model.summary()"
      ],
      "execution_count": 11,
      "outputs": [
        {
          "output_type": "stream",
          "text": [
            "Model: \"sequential\"\n",
            "_________________________________________________________________\n",
            "Layer (type)                 Output Shape              Param #   \n",
            "=================================================================\n",
            "conv2d (Conv2D)              (None, 32, 32, 32)        896       \n",
            "_________________________________________________________________\n",
            "batch_normalization (BatchNo (None, 32, 32, 32)        128       \n",
            "_________________________________________________________________\n",
            "conv2d_1 (Conv2D)            (None, 32, 32, 32)        9248      \n",
            "_________________________________________________________________\n",
            "max_pooling2d (MaxPooling2D) (None, 16, 16, 32)        0         \n",
            "_________________________________________________________________\n",
            "dropout (Dropout)            (None, 16, 16, 32)        0         \n",
            "_________________________________________________________________\n",
            "conv2d_2 (Conv2D)            (None, 16, 16, 64)        18496     \n",
            "_________________________________________________________________\n",
            "batch_normalization_1 (Batch (None, 16, 16, 64)        256       \n",
            "_________________________________________________________________\n",
            "conv2d_3 (Conv2D)            (None, 16, 16, 64)        36928     \n",
            "_________________________________________________________________\n",
            "max_pooling2d_1 (MaxPooling2 (None, 8, 8, 64)          0         \n",
            "_________________________________________________________________\n",
            "dropout_1 (Dropout)          (None, 8, 8, 64)          0         \n",
            "_________________________________________________________________\n",
            "conv2d_4 (Conv2D)            (None, 8, 8, 128)         73856     \n",
            "_________________________________________________________________\n",
            "batch_normalization_2 (Batch (None, 8, 8, 128)         512       \n",
            "_________________________________________________________________\n",
            "conv2d_5 (Conv2D)            (None, 8, 8, 128)         147584    \n",
            "_________________________________________________________________\n",
            "max_pooling2d_2 (MaxPooling2 (None, 4, 4, 128)         0         \n",
            "_________________________________________________________________\n",
            "dropout_2 (Dropout)          (None, 4, 4, 128)         0         \n",
            "_________________________________________________________________\n",
            "flatten (Flatten)            (None, 2048)              0         \n",
            "_________________________________________________________________\n",
            "dense (Dense)                (None, 128)               262272    \n",
            "_________________________________________________________________\n",
            "dropout_3 (Dropout)          (None, 128)               0         \n",
            "_________________________________________________________________\n",
            "dense_1 (Dense)              (None, 10)                1290      \n",
            "=================================================================\n",
            "Total params: 551,466\n",
            "Trainable params: 551,018\n",
            "Non-trainable params: 448\n",
            "_________________________________________________________________\n"
          ],
          "name": "stdout"
        }
      ]
    },
    {
      "cell_type": "code",
      "metadata": {
        "id": "Y-eSnbTwzW-N",
        "colab": {
          "base_uri": "https://localhost:8080/"
        },
        "outputId": "84b7a845-bf55-431d-c5e6-16eac0e5ad98"
      },
      "source": [
        "history = None\n",
        "if weightPath == None:\n",
        "  history = model.fit(X_Train, Y_Train, validation_data=(X_Test,Y_Test), epochs=50, batch_size=128,callbacks=[\n",
        "                tf.keras.callbacks.ModelCheckpoint('models/model_{val_accuracy:.3f}.h5',\n",
        "                                                   save_best_only=True,save_weights_only=False,\n",
        "                                                   monitor='val_accuracy')\n",
        "              ])\n",
        "  \n",
        "  # plot accuracy\n",
        "  plt.plot(history.history['accuracy'])\n",
        "  plt.plot(history.history['val_accuracy'])\n",
        "  plt.title('model accuracy')\n",
        "  plt.ylabel('accuracy')\n",
        "  plt.xlabel('epoch')\n",
        "  plt.legend(['train', 'validation'], loc='upper left')\n",
        "  plt.show()\n",
        "\n",
        "  # plot loss\n",
        "  plt.plot(history.history['loss'])\n",
        "  plt.plot(history.history['val_loss'])\n",
        "  plt.title('model loss')\n",
        "  plt.ylabel('loss')\n",
        "  plt.xlabel('epoch')\n",
        "  plt.legend(['train', 'validation'], loc='upper left')\n",
        "  plt.show()\n",
        "\n",
        "  model.save('model_TermProject_Final.h5')\n",
        "\n",
        "  print(\"Model saved!\")\n",
        "\n",
        "else:\n",
        "  print(\"Model loaded from file!\")"
      ],
      "execution_count": 12,
      "outputs": [
        {
          "output_type": "stream",
          "text": [
            "Model loaded from file!\n"
          ],
          "name": "stdout"
        }
      ]
    },
    {
      "cell_type": "code",
      "metadata": {
        "id": "K-ZIAAqj8QZv",
        "colab": {
          "base_uri": "https://localhost:8080/"
        },
        "outputId": "1c45254e-5e50-4ebe-c6bd-f1ead125b8c1"
      },
      "source": [
        "#Step 4: Evaluation\n",
        "loss, accuracy_= model.evaluate(X_Test, Y_Test)\n",
        "print(\"Accuracy of this model is: \", accuracy_*100)"
      ],
      "execution_count": 13,
      "outputs": [
        {
          "output_type": "stream",
          "text": [
            "313/313 [==============================] - 1s 3ms/step - loss: 0.7068 - accuracy: 0.8533\n",
            "Accuracy of this model is:  85.32999753952026\n"
          ],
          "name": "stdout"
        }
      ]
    },
    {
      "cell_type": "code",
      "metadata": {
        "id": "JiSySPHP8QRP"
      },
      "source": [
        "preds = model.predict(X_Test)"
      ],
      "execution_count": 14,
      "outputs": []
    },
    {
      "cell_type": "code",
      "metadata": {
        "id": "cv-RFv4RRDkj",
        "colab": {
          "base_uri": "https://localhost:8080/"
        },
        "outputId": "a8de803a-044d-47ae-c4b6-be20ace6b4f5"
      },
      "source": [
        "Y_Train.shape"
      ],
      "execution_count": 15,
      "outputs": [
        {
          "output_type": "execute_result",
          "data": {
            "text/plain": [
              "(50000, 10)"
            ]
          },
          "metadata": {
            "tags": []
          },
          "execution_count": 15
        }
      ]
    },
    {
      "cell_type": "code",
      "metadata": {
        "id": "P8ewsF6XQ9pA",
        "colab": {
          "base_uri": "https://localhost:8080/"
        },
        "outputId": "f7bf97bd-fd3a-4de2-f545-cd9aba264250"
      },
      "source": [
        "preds.shape"
      ],
      "execution_count": 16,
      "outputs": [
        {
          "output_type": "execute_result",
          "data": {
            "text/plain": [
              "(10000, 10)"
            ]
          },
          "metadata": {
            "tags": []
          },
          "execution_count": 16
        }
      ]
    },
    {
      "cell_type": "code",
      "metadata": {
        "id": "o113wxzt8Qc3",
        "colab": {
          "base_uri": "https://localhost:8080/",
          "height": 477
        },
        "outputId": "dc6cdc2e-cd6d-4f12-e34b-f1b40cb17b91"
      },
      "source": [
        "show_random_examples(X_Test,Y_Test,preds)"
      ],
      "execution_count": 17,
      "outputs": [
        {
          "output_type": "stream",
          "text": [
            "Clipping input data to the valid range for imshow with RGB data ([0..1] for floats or [0..255] for integers).\n",
            "Clipping input data to the valid range for imshow with RGB data ([0..1] for floats or [0..255] for integers).\n",
            "Clipping input data to the valid range for imshow with RGB data ([0..1] for floats or [0..255] for integers).\n",
            "Clipping input data to the valid range for imshow with RGB data ([0..1] for floats or [0..255] for integers).\n",
            "Clipping input data to the valid range for imshow with RGB data ([0..1] for floats or [0..255] for integers).\n",
            "Clipping input data to the valid range for imshow with RGB data ([0..1] for floats or [0..255] for integers).\n",
            "Clipping input data to the valid range for imshow with RGB data ([0..1] for floats or [0..255] for integers).\n",
            "Clipping input data to the valid range for imshow with RGB data ([0..1] for floats or [0..255] for integers).\n",
            "Clipping input data to the valid range for imshow with RGB data ([0..1] for floats or [0..255] for integers).\n",
            "Clipping input data to the valid range for imshow with RGB data ([0..1] for floats or [0..255] for integers).\n"
          ],
          "name": "stderr"
        },
        {
          "output_type": "display_data",
          "data": {
            "image/png": "[encoded data removed]",
            "text/plain": [
              "<Figure size 720x360 with 10 Axes>"
            ]
          },
          "metadata": {
            "tags": []
          }
        }
      ]
    },
    {
      "cell_type": "markdown",
      "metadata": {
        "id": "C8Pm6nLfmzzz"
      },
      "source": [
        "# Reading a single image and giving prediction"
      ]
    },
    {
      "cell_type": "code",
      "metadata": {
        "id": "SfDvGKHtaOdh",
        "outputId": "db1c6012-30bc-47d4-c32d-2b140cded055",
        "colab": {
          "base_uri": "https://localhost:8080/"
        }
      },
      "source": [
        "!ls"
      ],
      "execution_count": 18,
      "outputs": [
        {
          "output_type": "stream",
          "text": [
            "airplane8.png  cat.jpg\tmodels\tmodel_TermProject_Final.h5  sample_data\n"
          ],
          "name": "stdout"
        }
      ]
    },
    {
      "cell_type": "code",
      "metadata": {
        "id": "LDsrN-Hva9dC"
      },
      "source": [
        "from google.colab.patches import cv2_imshow"
      ],
      "execution_count": 19,
      "outputs": []
    },
    {
      "cell_type": "code",
      "metadata": {
        "id": "-cWLwU5xgDRw"
      },
      "source": [
        "imList = np.array([])"
      ],
      "execution_count": 20,
      "outputs": []
    },
    {
      "cell_type": "code",
      "metadata": {
        "id": "iV0F-vsyaI3I",
        "outputId": "ab8205a9-20b8-4c9e-c35e-863e31409bac",
        "colab": {
          "base_uri": "https://localhost:8080/",
          "height": 49
        }
      },
      "source": [
        "im = cv2.resize(cv2.imread('airplane8.png'), (32, 32)).astype(np.float32)\n",
        "cv2_imshow(im)\n",
        "imList = np.append(imList,im)"
      ],
      "execution_count": 21,
      "outputs": [
        {
          "output_type": "display_data",
          "data": {
            "image/png": "[encoded data removed]",
            "text/plain": [
              "<PIL.Image.Image image mode=RGB size=32x32 at 0x7FA7F0196F98>"
            ]
          },
          "metadata": {
            "tags": []
          }
        }
      ]
    },
    {
      "cell_type": "code",
      "metadata": {
        "id": "OvJTmb-7qzbK"
      },
      "source": [
        "imList = imList.reshape(1, 32, 32, 3)"
      ],
      "execution_count": 22,
      "outputs": []
    },
    {
      "cell_type": "code",
      "metadata": {
        "id": "CEZPFtcqq4SK",
        "outputId": "b98c675b-731e-45f6-fc5f-d41e02adc353",
        "colab": {
          "base_uri": "https://localhost:8080/"
        }
      },
      "source": [
        "imList.shape"
      ],
      "execution_count": 23,
      "outputs": [
        {
          "output_type": "execute_result",
          "data": {
            "text/plain": [
              "(1, 32, 32, 3)"
            ]
          },
          "metadata": {
            "tags": []
          },
          "execution_count": 23
        }
      ]
    },
    {
      "cell_type": "code",
      "metadata": {
        "id": "zsv1UXoybNRI",
        "outputId": "c2a4c529-b628-44f7-99a2-6541801c00ee",
        "colab": {
          "base_uri": "https://localhost:8080/",
          "height": 49
        }
      },
      "source": [
        "im = cv2.resize(cv2.imread('cat.jpg'), (32, 32)).astype(np.float32)\n",
        "cv2_imshow(im)\n",
        "imList = np.append(imList,im)"
      ],
      "execution_count": 24,
      "outputs": [
        {
          "output_type": "display_data",
          "data": {
            "image/png": "[encoded data removed]",
            "text/plain": [
              "<PIL.Image.Image image mode=RGB size=32x32 at 0x7FA7F011D358>"
            ]
          },
          "metadata": {
            "tags": []
          }
        }
      ]
    },
    {
      "cell_type": "code",
      "metadata": {
        "id": "8H4R0KHcgpcr"
      },
      "source": [
        "imList = imList.reshape(2, 32, 32, 3)"
      ],
      "execution_count": 25,
      "outputs": []
    },
    {
      "cell_type": "code",
      "metadata": {
        "id": "uZTfRVLtfdXA",
        "outputId": "dcafe9cf-d9fa-4957-e4f9-68dfb7cfa316",
        "colab": {
          "base_uri": "https://localhost:8080/"
        }
      },
      "source": [
        "imList.shape"
      ],
      "execution_count": 26,
      "outputs": [
        {
          "output_type": "execute_result",
          "data": {
            "text/plain": [
              "(2, 32, 32, 3)"
            ]
          },
          "metadata": {
            "tags": []
          },
          "execution_count": 26
        }
      ]
    },
    {
      "cell_type": "code",
      "metadata": {
        "id": "zs6dJQRHbR0q"
      },
      "source": [
        "# model.fit(datagen.flow(x_train, y_train, batch_size=32),\n",
        "#           steps_per_epoch=len(x_train) / 32, epochs=epochs)\n",
        "\n",
        "singlePred = model.predict(imList)"
      ],
      "execution_count": 27,
      "outputs": []
    },
    {
      "cell_type": "code",
      "metadata": {
        "id": "OSRTVb_ThHwf"
      },
      "source": [
        "yImList = tf.keras.utils.to_categorical([0,3], num_classes=10)"
      ],
      "execution_count": 28,
      "outputs": []
    },
    {
      "cell_type": "code",
      "metadata": {
        "id": "fRiQRFn4jBup"
      },
      "source": [
        "def show_single_preds(x,y,p):\n",
        "  for i in range(x.shape[0]):\n",
        "    cv2_imshow(x[i])\n",
        "    if np.argmax(y[i]) == np.argmax(p[i]):\n",
        "      print(cifar_classes[np.argmax(p[i])])\n",
        "      print(\"Correct\")\n",
        "    else:\n",
        "      print(cifar_classes[np.argmax(p[i])])\n",
        "      print(\"Incorrect\")\n",
        "    print(\"+++++++++++++++++++++++++++++\")"
      ],
      "execution_count": 29,
      "outputs": []
    },
    {
      "cell_type": "code",
      "metadata": {
        "id": "WICwiHSKhAWI",
        "outputId": "b8a5b75d-8322-463b-dd01-21c7ecfb4a3c",
        "colab": {
          "base_uri": "https://localhost:8080/",
          "height": 194
        }
      },
      "source": [
        "show_single_preds(imList,yImList,singlePred)"
      ],
      "execution_count": 30,
      "outputs": [
        {
          "output_type": "display_data",
          "data": {
            "image/png": "[encoded data removed]",
            "text/plain": [
              "<PIL.Image.Image image mode=RGB size=32x32 at 0x7FA7F00D96A0>"
            ]
          },
          "metadata": {
            "tags": []
          }
        },
        {
          "output_type": "stream",
          "text": [
            "dog\n",
            "Incorrect\n",
            "+++++++++++++++++++++++++++++\n"
          ],
          "name": "stdout"
        },
        {
          "output_type": "display_data",
          "data": {
            "image/png": "[encoded data removed]",
            "text/plain": [
              "<PIL.Image.Image image mode=RGB size=32x32 at 0x7FA7F00D9630>"
            ]
          },
          "metadata": {
            "tags": []
          }
        },
        {
          "output_type": "stream",
          "text": [
            "cat\n",
            "Correct\n",
            "+++++++++++++++++++++++++++++\n"
          ],
          "name": "stdout"
        }
      ]
    },
    {
      "cell_type": "markdown",
      "metadata": {
        "id": "Q9JrDCM4m5PG"
      },
      "source": [
        "# StreamLit"
      ]
    },
    {
      "cell_type": "code",
      "metadata": {
        "id": "JzMSGaqVQ5pe",
        "colab": {
          "base_uri": "https://localhost:8080/",
          "height": 400
        },
        "outputId": "69731112-b0cc-4a2f-df5b-23e4dd42156c"
      },
      "source": [
        "import streamlit as st\n",
        "import json\n",
        "import requests\n",
        "import numpy as np\n",
        "\n",
        "URI = 'http://127.0.0.1:5000'\n",
        "\n",
        "st.title('Neural Network Visualizer')\n",
        "st.sidebar.markdown('## Input Image')\n",
        "\n",
        "if st.button('Get Random Prediction'):\n",
        "  response = requests.post(URI, data={})\n",
        "  response = json.loads(response.text)\n",
        "  preds = response.get('prediction')\n",
        "  image = response.get('image')\n",
        "  image = np.reshape(image, (28,28))\n",
        "  st.sidebar.image(image, width=150)\n",
        "\n",
        "  for layer, p in enumerate(preds):\n",
        "    numbers = np.squeeze(np.array(p))\n",
        "\n",
        "    plt.figure(figsize=(32,4))\n",
        "\n",
        "    if layer == 2:\n",
        "      row = 1\n",
        "      col = 10\n",
        "    else:\n",
        "      row = 2\n",
        "      col = 16\n",
        "\n",
        "    for i, number in enumerate(numbers):\n",
        "      plt.subplot(row,col,i+1)\n",
        "      plt.imshow(number * np.ones((8,8,3)).astype('float32'))\n",
        "      plt.xticks([])\n",
        "      plt.yticks([])\n",
        "\n",
        "      if layer == 2:\n",
        "        plt.xlabel(str(i), fontsize=40)\n",
        "\n",
        "    plt.subplots_adjust(wspace=0.05, hspace=0.05)\n",
        "    plt.tight_layout()\n",
        "    st.text('Layer {}'.format(layer+1))\n",
        "    st.pyplot()"
      ],
      "execution_count": 31,
      "outputs": [
        {
          "output_type": "error",
          "ename": "ModuleNotFoundError",
          "evalue": "ignored",
          "traceback": [
            "\u001b[0;31m---------------------------------------------------------------------------\u001b[0m",
            "\u001b[0;31mModuleNotFoundError\u001b[0m                       Traceback (most recent call last)",
            "\u001b[0;32m<ipython-input-31-ec434f2c5a07>\u001b[0m in \u001b[0;36m<module>\u001b[0;34m()\u001b[0m\n\u001b[0;32m----> 1\u001b[0;31m \u001b[0;32mimport\u001b[0m \u001b[0mstreamlit\u001b[0m \u001b[0;32mas\u001b[0m \u001b[0mst\u001b[0m\u001b[0;34m\u001b[0m\u001b[0;34m\u001b[0m\u001b[0m\n\u001b[0m\u001b[1;32m      2\u001b[0m \u001b[0;32mimport\u001b[0m \u001b[0mjson\u001b[0m\u001b[0;34m\u001b[0m\u001b[0;34m\u001b[0m\u001b[0m\n\u001b[1;32m      3\u001b[0m \u001b[0;32mimport\u001b[0m \u001b[0mrequests\u001b[0m\u001b[0;34m\u001b[0m\u001b[0;34m\u001b[0m\u001b[0m\n\u001b[1;32m      4\u001b[0m \u001b[0;32mimport\u001b[0m \u001b[0mnumpy\u001b[0m \u001b[0;32mas\u001b[0m \u001b[0mnp\u001b[0m\u001b[0;34m\u001b[0m\u001b[0;34m\u001b[0m\u001b[0m\n\u001b[1;32m      5\u001b[0m \u001b[0;34m\u001b[0m\u001b[0m\n",
            "\u001b[0;31mModuleNotFoundError\u001b[0m: No module named 'streamlit'",
            "",
            "\u001b[0;31m---------------------------------------------------------------------------\u001b[0;32m\nNOTE: If your import is failing due to a missing package, you can\nmanually install dependencies using either !pip or !apt.\n\nTo view examples of installing some common dependencies, click the\n\"Open Examples\" button below.\n\u001b[0;31m---------------------------------------------------------------------------\u001b[0m\n"
          ]
        }
      ]
    }
  ]
}